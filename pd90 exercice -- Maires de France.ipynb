{
 "cells": [
  {
   "cell_type": "markdown",
   "metadata": {
    "lang": "en"
   },
   "source": [
    "Our DataFrame is the list of French mayors in 2014:\n",
    "\n",
    "https://www.data.gouv.fr/storage/f/2014-04-25T17-51-58/maires-25-04-2014.xlsx\n",
    "\n",
    "this file is also in `data/maires-25-04-2014.xlsx` so no reason to reload it...\n",
    "\n",
    "### Load the file in a DataFrame"
   ]
  },
  {
   "cell_type": "markdown",
   "metadata": {
    "lang": "fr"
   },
   "source": [
    "Notre tableau est la liste des maires français en 2014:\n",
    "\n",
    "https://www.data.gouv.fr/storage/f/2014-04-25T17-51-58/maires-25-04-2014.xlsx\n",
    "\n",
    "ce fichier est aussi dans `data/maires-25-04-2014.xlsx` donc aucune raison de le recharger ...\n",
    "\n",
    "## Charger le fichier dans un DataFrame"
   ]
  },
  {
   "cell_type": "code",
   "execution_count": 1,
   "metadata": {},
   "outputs": [],
   "source": [
    "import pandas as pd\n",
    "\n",
    "df = pd.read_csv(\"data/maires-25-04-2014.csv\")"
   ]
  },
  {
   "cell_type": "code",
   "execution_count": 2,
   "metadata": {},
   "outputs": [
    {
     "data": {
      "text/html": [
       "<div>\n",
       "<style scoped>\n",
       "    .dataframe tbody tr th:only-of-type {\n",
       "        vertical-align: middle;\n",
       "    }\n",
       "\n",
       "    .dataframe tbody tr th {\n",
       "        vertical-align: top;\n",
       "    }\n",
       "\n",
       "    .dataframe thead th {\n",
       "        text-align: right;\n",
       "    }\n",
       "</style>\n",
       "<table border=\"1\" class=\"dataframe\">\n",
       "  <thead>\n",
       "    <tr style=\"text-align: right;\">\n",
       "      <th></th>\n",
       "      <th>Liste des maires au 25 avril 2014</th>\n",
       "      <th>Unnamed: 1</th>\n",
       "      <th>Unnamed: 2</th>\n",
       "      <th>Unnamed: 3</th>\n",
       "      <th>Unnamed: 4</th>\n",
       "      <th>Unnamed: 5</th>\n",
       "      <th>Unnamed: 6</th>\n",
       "      <th>Unnamed: 7</th>\n",
       "      <th>Unnamed: 8</th>\n",
       "      <th>Unnamed: 9</th>\n",
       "      <th>Unnamed: 10</th>\n",
       "    </tr>\n",
       "  </thead>\n",
       "  <tbody>\n",
       "    <tr>\n",
       "      <th>0</th>\n",
       "      <td>(certaines communes n'ont pas encore été rense...</td>\n",
       "      <td>NaN</td>\n",
       "      <td>NaN</td>\n",
       "      <td>NaN</td>\n",
       "      <td>NaN</td>\n",
       "      <td>NaN</td>\n",
       "      <td>NaN</td>\n",
       "      <td>NaN</td>\n",
       "      <td>NaN</td>\n",
       "      <td>NaN</td>\n",
       "      <td>NaN</td>\n",
       "    </tr>\n",
       "    <tr>\n",
       "      <th>1</th>\n",
       "      <td>NaN</td>\n",
       "      <td>NaN</td>\n",
       "      <td>NaN</td>\n",
       "      <td>NaN</td>\n",
       "      <td>NaN</td>\n",
       "      <td>NaN</td>\n",
       "      <td>NaN</td>\n",
       "      <td>NaN</td>\n",
       "      <td>NaN</td>\n",
       "      <td>NaN</td>\n",
       "      <td>NaN</td>\n",
       "    </tr>\n",
       "    <tr>\n",
       "      <th>2</th>\n",
       "      <td>Code du département (Maire)</td>\n",
       "      <td>Libellé de département (Maires)</td>\n",
       "      <td>Code Insee de la commune</td>\n",
       "      <td>Libellé de la commune</td>\n",
       "      <td>Population de la commune</td>\n",
       "      <td>Nom de l'élu</td>\n",
       "      <td>Prénom de l'élu</td>\n",
       "      <td>Civilité</td>\n",
       "      <td>Date de naissance</td>\n",
       "      <td>Code profession</td>\n",
       "      <td>Libellé de la profession</td>\n",
       "    </tr>\n",
       "    <tr>\n",
       "      <th>3</th>\n",
       "      <td>1</td>\n",
       "      <td>AIN</td>\n",
       "      <td>1</td>\n",
       "      <td>L'Abergement-Clémenciat</td>\n",
       "      <td>780</td>\n",
       "      <td>BOULON</td>\n",
       "      <td>Daniel</td>\n",
       "      <td>M</td>\n",
       "      <td>04/03/1951</td>\n",
       "      <td>61</td>\n",
       "      <td>Retraités salariés privés</td>\n",
       "    </tr>\n",
       "    <tr>\n",
       "      <th>4</th>\n",
       "      <td>1</td>\n",
       "      <td>AIN</td>\n",
       "      <td>2</td>\n",
       "      <td>L'Abergement-de-Varey</td>\n",
       "      <td>234</td>\n",
       "      <td>ORSET</td>\n",
       "      <td>Max</td>\n",
       "      <td>M</td>\n",
       "      <td>02/11/1947</td>\n",
       "      <td>65</td>\n",
       "      <td>Autres retraités</td>\n",
       "    </tr>\n",
       "    <tr>\n",
       "      <th>...</th>\n",
       "      <td>...</td>\n",
       "      <td>...</td>\n",
       "      <td>...</td>\n",
       "      <td>...</td>\n",
       "      <td>...</td>\n",
       "      <td>...</td>\n",
       "      <td>...</td>\n",
       "      <td>...</td>\n",
       "      <td>...</td>\n",
       "      <td>...</td>\n",
       "      <td>...</td>\n",
       "    </tr>\n",
       "    <tr>\n",
       "      <th>35885</th>\n",
       "      <td>ZP</td>\n",
       "      <td>POLYNESIE FRANCAISE</td>\n",
       "      <td>57</td>\n",
       "      <td>Ua-Pou</td>\n",
       "      <td>2173</td>\n",
       "      <td>KAIHA</td>\n",
       "      <td>Joseph</td>\n",
       "      <td>M</td>\n",
       "      <td>07/12/1960</td>\n",
       "      <td>43</td>\n",
       "      <td>Enseignants 1er deg.-directeurs école</td>\n",
       "    </tr>\n",
       "    <tr>\n",
       "      <th>35886</th>\n",
       "      <td>ZP</td>\n",
       "      <td>POLYNESIE FRANCAISE</td>\n",
       "      <td>58</td>\n",
       "      <td>Uturoa</td>\n",
       "      <td>3697</td>\n",
       "      <td>TEROOATEA</td>\n",
       "      <td>Sylviane</td>\n",
       "      <td>Mme</td>\n",
       "      <td>13/10/1966</td>\n",
       "      <td>50</td>\n",
       "      <td>Cadres sup. (entreprises publiques)</td>\n",
       "    </tr>\n",
       "    <tr>\n",
       "      <th>35887</th>\n",
       "      <td>ZS</td>\n",
       "      <td>SAINT PIERRE ET MIQUELON</td>\n",
       "      <td>501</td>\n",
       "      <td>Miquelon-Langlade</td>\n",
       "      <td>635</td>\n",
       "      <td>DE LIZARRAGA</td>\n",
       "      <td>Jean</td>\n",
       "      <td>M</td>\n",
       "      <td>17/12/1943</td>\n",
       "      <td>63</td>\n",
       "      <td>Retraités fonct.publique (sf enseig.)</td>\n",
       "    </tr>\n",
       "    <tr>\n",
       "      <th>35888</th>\n",
       "      <td>ZS</td>\n",
       "      <td>SAINT PIERRE ET MIQUELON</td>\n",
       "      <td>502</td>\n",
       "      <td>Saint-Pierre</td>\n",
       "      <td>5676</td>\n",
       "      <td>CLAIREAUX</td>\n",
       "      <td>Karine</td>\n",
       "      <td>Mme</td>\n",
       "      <td>15/11/1963</td>\n",
       "      <td>49</td>\n",
       "      <td>Fonctionnaires de catégorie C</td>\n",
       "    </tr>\n",
       "    <tr>\n",
       "      <th>35889</th>\n",
       "      <td>NaN</td>\n",
       "      <td>NaN</td>\n",
       "      <td>Nombre total:</td>\n",
       "      <td>35886</td>\n",
       "      <td>NaN</td>\n",
       "      <td>NaN</td>\n",
       "      <td>NaN</td>\n",
       "      <td>NaN</td>\n",
       "      <td>NaN</td>\n",
       "      <td>NaN</td>\n",
       "      <td>NaN</td>\n",
       "    </tr>\n",
       "  </tbody>\n",
       "</table>\n",
       "<p>35890 rows × 11 columns</p>\n",
       "</div>"
      ],
      "text/plain": [
       "                       Liste des maires au 25 avril 2014  \\\n",
       "0      (certaines communes n'ont pas encore été rense...   \n",
       "1                                                    NaN   \n",
       "2                            Code du département (Maire)   \n",
       "3                                                      1   \n",
       "4                                                      1   \n",
       "...                                                  ...   \n",
       "35885                                                 ZP   \n",
       "35886                                                 ZP   \n",
       "35887                                                 ZS   \n",
       "35888                                                 ZS   \n",
       "35889                                                NaN   \n",
       "\n",
       "                            Unnamed: 1                Unnamed: 2  \\\n",
       "0                                  NaN                       NaN   \n",
       "1                                  NaN                       NaN   \n",
       "2      Libellé de département (Maires)  Code Insee de la commune   \n",
       "3                                  AIN                         1   \n",
       "4                                  AIN                         2   \n",
       "...                                ...                       ...   \n",
       "35885              POLYNESIE FRANCAISE                        57   \n",
       "35886              POLYNESIE FRANCAISE                        58   \n",
       "35887         SAINT PIERRE ET MIQUELON                       501   \n",
       "35888         SAINT PIERRE ET MIQUELON                       502   \n",
       "35889                              NaN             Nombre total:   \n",
       "\n",
       "                    Unnamed: 3                Unnamed: 4    Unnamed: 5  \\\n",
       "0                          NaN                       NaN           NaN   \n",
       "1                          NaN                       NaN           NaN   \n",
       "2        Libellé de la commune  Population de la commune  Nom de l'élu   \n",
       "3      L'Abergement-Clémenciat                       780        BOULON   \n",
       "4        L'Abergement-de-Varey                       234         ORSET   \n",
       "...                        ...                       ...           ...   \n",
       "35885                   Ua-Pou                      2173         KAIHA   \n",
       "35886                   Uturoa                      3697     TEROOATEA   \n",
       "35887        Miquelon-Langlade                       635  DE LIZARRAGA   \n",
       "35888             Saint-Pierre                      5676     CLAIREAUX   \n",
       "35889                    35886                       NaN           NaN   \n",
       "\n",
       "            Unnamed: 6 Unnamed: 7         Unnamed: 8       Unnamed: 9  \\\n",
       "0                  NaN        NaN                NaN              NaN   \n",
       "1                  NaN        NaN                NaN              NaN   \n",
       "2      Prénom de l'élu   Civilité  Date de naissance  Code profession   \n",
       "3               Daniel          M         04/03/1951               61   \n",
       "4                  Max          M         02/11/1947               65   \n",
       "...                ...        ...                ...              ...   \n",
       "35885           Joseph          M         07/12/1960               43   \n",
       "35886         Sylviane        Mme         13/10/1966               50   \n",
       "35887             Jean          M         17/12/1943               63   \n",
       "35888           Karine        Mme         15/11/1963               49   \n",
       "35889              NaN        NaN                NaN              NaN   \n",
       "\n",
       "                                 Unnamed: 10  \n",
       "0                                        NaN  \n",
       "1                                        NaN  \n",
       "2                   Libellé de la profession  \n",
       "3                  Retraités salariés privés  \n",
       "4                           Autres retraités  \n",
       "...                                      ...  \n",
       "35885  Enseignants 1er deg.-directeurs école  \n",
       "35886    Cadres sup. (entreprises publiques)  \n",
       "35887  Retraités fonct.publique (sf enseig.)  \n",
       "35888          Fonctionnaires de catégorie C  \n",
       "35889                                    NaN  \n",
       "\n",
       "[35890 rows x 11 columns]"
      ]
     },
     "execution_count": 2,
     "metadata": {},
     "output_type": "execute_result"
    }
   ],
   "source": [
    "df"
   ]
  },
  {
   "cell_type": "markdown",
   "metadata": {
    "lang": "en"
   },
   "source": [
    "### Correct the dataframe\n",
    "\n",
    "We can see there are issues:\n",
    "    \n",
    "* first 3 lines are just comments to ignore\n",
    "* last line holds sums which we don't want\n",
    "* names of columns are in the fourth line\n",
    "* names of columns are too long (e.g. 'Code du département (Maire)') so let define our name and ignore line 4 too (the title)\n",
    "\n",
    "Show head of the resulting DataFrame.\n",
    "\n",
    "Note: it can be useful to reaload the DataFrame with the right arguments."
   ]
  },
  {
   "cell_type": "markdown",
   "metadata": {
    "lang": "fr"
   },
   "source": [
    "## Corriger le tableau\n",
    "\n",
    "Nous pouvons voir qu'il y a des problèmes:\n",
    "    \n",
    "* les 3 premières lignes ne sont que des commentaires à ignorer\n",
    "* la dernière ligne contient des sommes que nous ne voulons pas\n",
    "* les noms des colonnes sont dans la quatrième ligne\n",
    "* les nom des colonnes est trop long (par exemple, \"Code du département (Maire)\"), alors définissons notre nom et ignorons également la ligne 4 (le titre)\n",
    "\n",
    "Afficher le début du tableau après corrections.\n",
    "\n",
    "Note : il est conseillé de recharger le tableau correctement."
   ]
  },
  {
   "cell_type": "markdown",
   "metadata": {
    "lang": "en"
   },
   "source": [
    "### Cast birth and population\n",
    "\n",
    "Birth and population are useless String, cast them to what they should be."
   ]
  },
  {
   "cell_type": "markdown",
   "metadata": {
    "lang": "fr"
   },
   "source": [
    "## Naissance et population\n",
    "\n",
    "* Mettre au bon type les colonnes naissance et population.\n",
    "* Ajouter une colonne \"age\". Utilisez la date de naissance pour ajouter une colonne 'age'. Vous devrez peut-être calculer en année car TimeDelta est en jours par défaut."
   ]
  },
  {
   "cell_type": "markdown",
   "metadata": {
    "lang": "en"
   },
   "source": [
    "### Add a column 'age'\n",
    "\n",
    "Use the birthdate to add a column 'age'. You may need to compute in year since TimeDelta are in days by default."
   ]
  },
  {
   "cell_type": "markdown",
   "metadata": {
    "lang": "en"
   },
   "source": [
    "### Looking at data\n",
    "\n",
    "* display the line of Paris\n",
    "* sort all cities per population, largest first\n",
    "* give total population\n",
    "* give percentage of male mayors\n",
    "* give statitics on the age of mayors\n"
   ]
  },
  {
   "cell_type": "markdown",
   "metadata": {
    "lang": "fr"
   },
   "source": [
    "## Travail sur des données\n",
    "\n",
    "* Afficher la ligne de paris\n",
    "* Trier toutes les villes par population, la plus grande en premier\n",
    "* Calculer la population totale\n",
    "* Donner le pourcentage d'hommes qui sont maires\n",
    "* Donner des statistiques sur l'âge des maires"
   ]
  },
  {
   "cell_type": "markdown",
   "metadata": {
    "collapsed": true,
    "lang": "en"
   },
   "source": [
    "### Group data\n",
    "\n",
    "Let's group all cities of the same department and\n",
    "\n",
    "* sum the population with `np.sum`\n",
    "* average the age of mayors with `np.mean`\n",
    "* count the number of cities with `np.size`\n"
   ]
  },
  {
   "cell_type": "markdown",
   "metadata": {
    "lang": "fr"
   },
   "source": [
    "## Regrouper les données\n",
    "\n",
    "Grouper toutes les villes du même département et\n",
    "\n",
    "* Additionner la population avec `np.sum`\n",
    "* Calculer l'âge moyen des maires avec `np.mean`\n",
    "* Compter le nombre de villes avec `np.size`"
   ]
  },
  {
   "cell_type": "code",
   "execution_count": null,
   "metadata": {},
   "outputs": [],
   "source": []
  }
 ],
 "metadata": {
  "kernelspec": {
   "display_name": "Python 3",
   "language": "python",
   "name": "python3"
  },
  "language_info": {
   "codemirror_mode": {
    "name": "ipython",
    "version": 3
   },
   "file_extension": ".py",
   "mimetype": "text/x-python",
   "name": "python",
   "nbconvert_exporter": "python",
   "pygments_lexer": "ipython3",
   "version": "3.7.6"
  },
  "nbTranslate": {
   "displayLangs": [
    "fr"
   ],
   "hotkey": "alt-t",
   "langInMainMenu": true,
   "sourceLang": "en",
   "targetLang": "fr",
   "useGoogleTranslate": true
  }
 },
 "nbformat": 4,
 "nbformat_minor": 1
}
