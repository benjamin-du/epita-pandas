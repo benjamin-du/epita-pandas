{
 "cells": [
  {
   "cell_type": "code",
   "execution_count": 2,
   "metadata": {},
   "outputs": [],
   "source": [
    "import pandas as pd"
   ]
  },
  {
   "cell_type": "markdown",
   "metadata": {
    "lang": "fr"
   },
   "source": [
    "## Un tableau à 3 dimensions\n",
    "\n",
    "Pandas n'est pas limité à un tableau à 2 dimensions. Il peut avoir autant de dimensions qu'on le souhaite. Par contre pour les afficher on est bien obligé d'utiliser 2 dimensions. Aussi on utilise les sous-indices (sous-index ou sous-colonne) pour augmenter le nombre de dimensions. Ainsi une valeur d'un tableau peut\n",
    "être `incomes` `France` `1960` ce qui fait 3 dimensions.\n",
    "\n",
    "Pour faire notre tableau à 3 dimensions, on va fusionner les 2 tableaux suivants\n",
    "ce qui va générer un double index."
   ]
  },
  {
   "cell_type": "markdown",
   "metadata": {
    "lang": "en"
   },
   "source": [
    "# Multi-index for more dimensions\n",
    "\n",
    "Pandas is not limited to a 2-dimensional array. It can have as many dimensions as desired but can display it is only in 2 dimensions. Therefore sub-indices (subindex or sub-column) are used to increase the number of dimensions. So a value can be for `incomes` `France` and `1960` which is 3 dimensions.\n",
    "\n",
    "To make our table with 3 dimensions, we will merge the 2 following tables\n",
    "which will generate a double index."
   ]
  },
  {
   "cell_type": "code",
   "execution_count": 3,
   "metadata": {},
   "outputs": [],
   "source": [
    "# incomes per person, inflation adjusted, US $ 2000, source World Bank\n",
    "incomes = pd.DataFrame({'Argentina': [5251, 6611, 7540, 5581, 7695, 10749],\n",
    "                        'Egypt': [430, 565, 856, 1153, 1475, 1975],\n",
    "                        'France': [7499, 11572, 15641, 18731, 21774, 22758],\n",
    "                        'Sweden': [11360, 16570, 19470, 23492, 27869, 32631],\n",
    "                        'USA': [13723, 18228, 22630, 28298, 35081, 37329]},\n",
    "                       index=[1960,1970,1980,1990,2000,2010])"
   ]
  },
  {
   "cell_type": "code",
   "execution_count": 5,
   "metadata": {},
   "outputs": [
    {
     "data": {
      "text/html": [
       "<div>\n",
       "<style scoped>\n",
       "    .dataframe tbody tr th:only-of-type {\n",
       "        vertical-align: middle;\n",
       "    }\n",
       "\n",
       "    .dataframe tbody tr th {\n",
       "        vertical-align: top;\n",
       "    }\n",
       "\n",
       "    .dataframe thead th {\n",
       "        text-align: right;\n",
       "    }\n",
       "</style>\n",
       "<table border=\"1\" class=\"dataframe\">\n",
       "  <thead>\n",
       "    <tr style=\"text-align: right;\">\n",
       "      <th></th>\n",
       "      <th>Argentina</th>\n",
       "      <th>Egypt</th>\n",
       "      <th>France</th>\n",
       "      <th>Sweden</th>\n",
       "      <th>USA</th>\n",
       "    </tr>\n",
       "  </thead>\n",
       "  <tbody>\n",
       "    <tr>\n",
       "      <th>1960</th>\n",
       "      <td>5251</td>\n",
       "      <td>430</td>\n",
       "      <td>7499</td>\n",
       "      <td>11360</td>\n",
       "      <td>13723</td>\n",
       "    </tr>\n",
       "    <tr>\n",
       "      <th>1970</th>\n",
       "      <td>6611</td>\n",
       "      <td>565</td>\n",
       "      <td>11572</td>\n",
       "      <td>16570</td>\n",
       "      <td>18228</td>\n",
       "    </tr>\n",
       "    <tr>\n",
       "      <th>1980</th>\n",
       "      <td>7540</td>\n",
       "      <td>856</td>\n",
       "      <td>15641</td>\n",
       "      <td>19470</td>\n",
       "      <td>22630</td>\n",
       "    </tr>\n",
       "  </tbody>\n",
       "</table>\n",
       "</div>"
      ],
      "text/plain": [
       "      Argentina  Egypt  France  Sweden    USA\n",
       "1960       5251    430    7499   11360  13723\n",
       "1970       6611    565   11572   16570  18228\n",
       "1980       7540    856   15641   19470  22630"
      ]
     },
     "execution_count": 5,
     "metadata": {},
     "output_type": "execute_result"
    }
   ],
   "source": [
    "incomes.head(3)"
   ]
  },
  {
   "cell_type": "code",
   "execution_count": 4,
   "metadata": {},
   "outputs": [],
   "source": [
    "# children per woman\n",
    "children = pd.DataFrame({'Argentina': [3.11, 3.07, 3.33, 2.99, 2.48, 2.22],\n",
    "                        'Egypt': [6.63, 5.94, 5.37, 4.35, 3.31, 2.88],\n",
    "                        'France': [2.77, 2.49, 1.83, 1.75, 1.82, 1.98],\n",
    "                        'Sweden': [2.2, 1.92, 1.68, 2.14, 1.56, 1.99],\n",
    "                        'USA': [3.67, 2.46, 1.82, 2.07, 2.05, 1.93]},\n",
    "                       index=[1960,1970,1980,1990,2000,2010])"
   ]
  },
  {
   "cell_type": "code",
   "execution_count": 6,
   "metadata": {},
   "outputs": [
    {
     "data": {
      "text/html": [
       "<div>\n",
       "<style scoped>\n",
       "    .dataframe tbody tr th:only-of-type {\n",
       "        vertical-align: middle;\n",
       "    }\n",
       "\n",
       "    .dataframe tbody tr th {\n",
       "        vertical-align: top;\n",
       "    }\n",
       "\n",
       "    .dataframe thead th {\n",
       "        text-align: right;\n",
       "    }\n",
       "</style>\n",
       "<table border=\"1\" class=\"dataframe\">\n",
       "  <thead>\n",
       "    <tr style=\"text-align: right;\">\n",
       "      <th></th>\n",
       "      <th>Argentina</th>\n",
       "      <th>Egypt</th>\n",
       "      <th>France</th>\n",
       "      <th>Sweden</th>\n",
       "      <th>USA</th>\n",
       "    </tr>\n",
       "  </thead>\n",
       "  <tbody>\n",
       "    <tr>\n",
       "      <th>1960</th>\n",
       "      <td>3.11</td>\n",
       "      <td>6.63</td>\n",
       "      <td>2.77</td>\n",
       "      <td>2.20</td>\n",
       "      <td>3.67</td>\n",
       "    </tr>\n",
       "    <tr>\n",
       "      <th>1970</th>\n",
       "      <td>3.07</td>\n",
       "      <td>5.94</td>\n",
       "      <td>2.49</td>\n",
       "      <td>1.92</td>\n",
       "      <td>2.46</td>\n",
       "    </tr>\n",
       "    <tr>\n",
       "      <th>1980</th>\n",
       "      <td>3.33</td>\n",
       "      <td>5.37</td>\n",
       "      <td>1.83</td>\n",
       "      <td>1.68</td>\n",
       "      <td>1.82</td>\n",
       "    </tr>\n",
       "  </tbody>\n",
       "</table>\n",
       "</div>"
      ],
      "text/plain": [
       "      Argentina  Egypt  France  Sweden   USA\n",
       "1960       3.11   6.63    2.77    2.20  3.67\n",
       "1970       3.07   5.94    2.49    1.92  2.46\n",
       "1980       3.33   5.37    1.83    1.68  1.82"
      ]
     },
     "execution_count": 6,
     "metadata": {},
     "output_type": "execute_result"
    }
   ],
   "source": [
    "children.head(3)"
   ]
  },
  {
   "cell_type": "code",
   "execution_count": 7,
   "metadata": {},
   "outputs": [
    {
     "data": {
      "text/html": [
       "<div>\n",
       "<style scoped>\n",
       "    .dataframe tbody tr th:only-of-type {\n",
       "        vertical-align: middle;\n",
       "    }\n",
       "\n",
       "    .dataframe tbody tr th {\n",
       "        vertical-align: top;\n",
       "    }\n",
       "\n",
       "    .dataframe thead th {\n",
       "        text-align: right;\n",
       "    }\n",
       "</style>\n",
       "<table border=\"1\" class=\"dataframe\">\n",
       "  <thead>\n",
       "    <tr style=\"text-align: right;\">\n",
       "      <th></th>\n",
       "      <th></th>\n",
       "      <th>Argentina</th>\n",
       "      <th>Egypt</th>\n",
       "      <th>France</th>\n",
       "      <th>Sweden</th>\n",
       "      <th>USA</th>\n",
       "    </tr>\n",
       "  </thead>\n",
       "  <tbody>\n",
       "    <tr>\n",
       "      <th rowspan=\"6\" valign=\"top\">incomes</th>\n",
       "      <th>1960</th>\n",
       "      <td>5251.00</td>\n",
       "      <td>430.00</td>\n",
       "      <td>7499.00</td>\n",
       "      <td>11360.00</td>\n",
       "      <td>13723.00</td>\n",
       "    </tr>\n",
       "    <tr>\n",
       "      <th>1970</th>\n",
       "      <td>6611.00</td>\n",
       "      <td>565.00</td>\n",
       "      <td>11572.00</td>\n",
       "      <td>16570.00</td>\n",
       "      <td>18228.00</td>\n",
       "    </tr>\n",
       "    <tr>\n",
       "      <th>1980</th>\n",
       "      <td>7540.00</td>\n",
       "      <td>856.00</td>\n",
       "      <td>15641.00</td>\n",
       "      <td>19470.00</td>\n",
       "      <td>22630.00</td>\n",
       "    </tr>\n",
       "    <tr>\n",
       "      <th>1990</th>\n",
       "      <td>5581.00</td>\n",
       "      <td>1153.00</td>\n",
       "      <td>18731.00</td>\n",
       "      <td>23492.00</td>\n",
       "      <td>28298.00</td>\n",
       "    </tr>\n",
       "    <tr>\n",
       "      <th>2000</th>\n",
       "      <td>7695.00</td>\n",
       "      <td>1475.00</td>\n",
       "      <td>21774.00</td>\n",
       "      <td>27869.00</td>\n",
       "      <td>35081.00</td>\n",
       "    </tr>\n",
       "    <tr>\n",
       "      <th>2010</th>\n",
       "      <td>10749.00</td>\n",
       "      <td>1975.00</td>\n",
       "      <td>22758.00</td>\n",
       "      <td>32631.00</td>\n",
       "      <td>37329.00</td>\n",
       "    </tr>\n",
       "    <tr>\n",
       "      <th rowspan=\"6\" valign=\"top\">children</th>\n",
       "      <th>1960</th>\n",
       "      <td>3.11</td>\n",
       "      <td>6.63</td>\n",
       "      <td>2.77</td>\n",
       "      <td>2.20</td>\n",
       "      <td>3.67</td>\n",
       "    </tr>\n",
       "    <tr>\n",
       "      <th>1970</th>\n",
       "      <td>3.07</td>\n",
       "      <td>5.94</td>\n",
       "      <td>2.49</td>\n",
       "      <td>1.92</td>\n",
       "      <td>2.46</td>\n",
       "    </tr>\n",
       "    <tr>\n",
       "      <th>1980</th>\n",
       "      <td>3.33</td>\n",
       "      <td>5.37</td>\n",
       "      <td>1.83</td>\n",
       "      <td>1.68</td>\n",
       "      <td>1.82</td>\n",
       "    </tr>\n",
       "    <tr>\n",
       "      <th>1990</th>\n",
       "      <td>2.99</td>\n",
       "      <td>4.35</td>\n",
       "      <td>1.75</td>\n",
       "      <td>2.14</td>\n",
       "      <td>2.07</td>\n",
       "    </tr>\n",
       "    <tr>\n",
       "      <th>2000</th>\n",
       "      <td>2.48</td>\n",
       "      <td>3.31</td>\n",
       "      <td>1.82</td>\n",
       "      <td>1.56</td>\n",
       "      <td>2.05</td>\n",
       "    </tr>\n",
       "    <tr>\n",
       "      <th>2010</th>\n",
       "      <td>2.22</td>\n",
       "      <td>2.88</td>\n",
       "      <td>1.98</td>\n",
       "      <td>1.99</td>\n",
       "      <td>1.93</td>\n",
       "    </tr>\n",
       "  </tbody>\n",
       "</table>\n",
       "</div>"
      ],
      "text/plain": [
       "               Argentina    Egypt    France    Sweden       USA\n",
       "incomes  1960    5251.00   430.00   7499.00  11360.00  13723.00\n",
       "         1970    6611.00   565.00  11572.00  16570.00  18228.00\n",
       "         1980    7540.00   856.00  15641.00  19470.00  22630.00\n",
       "         1990    5581.00  1153.00  18731.00  23492.00  28298.00\n",
       "         2000    7695.00  1475.00  21774.00  27869.00  35081.00\n",
       "         2010   10749.00  1975.00  22758.00  32631.00  37329.00\n",
       "children 1960       3.11     6.63      2.77      2.20      3.67\n",
       "         1970       3.07     5.94      2.49      1.92      2.46\n",
       "         1980       3.33     5.37      1.83      1.68      1.82\n",
       "         1990       2.99     4.35      1.75      2.14      2.07\n",
       "         2000       2.48     3.31      1.82      1.56      2.05\n",
       "         2010       2.22     2.88      1.98      1.99      1.93"
      ]
     },
     "execution_count": 7,
     "metadata": {},
     "output_type": "execute_result"
    }
   ],
   "source": [
    "# concat is explain in lesson \"Pandas 6 -- operations with 2 dataframes\"\n",
    "df = pd.concat({'incomes': incomes, 'children': children})\n",
    "df"
   ]
  },
  {
   "cell_type": "markdown",
   "metadata": {},
   "source": [
    "Le résultat est un tableau avec un __multi-index__."
   ]
  },
  {
   "cell_type": "code",
   "execution_count": 8,
   "metadata": {},
   "outputs": [
    {
     "data": {
      "text/plain": [
       "MultiIndex([( 'incomes', 1960),\n",
       "            ( 'incomes', 1970),\n",
       "            ( 'incomes', 1980),\n",
       "            ( 'incomes', 1990),\n",
       "            ( 'incomes', 2000),\n",
       "            ( 'incomes', 2010),\n",
       "            ('children', 1960),\n",
       "            ('children', 1970),\n",
       "            ('children', 1980),\n",
       "            ('children', 1990),\n",
       "            ('children', 2000),\n",
       "            ('children', 2010)],\n",
       "           )"
      ]
     },
     "execution_count": 8,
     "metadata": {},
     "output_type": "execute_result"
    }
   ],
   "source": [
    "df.index"
   ]
  },
  {
   "cell_type": "markdown",
   "metadata": {
    "lang": "fr"
   },
   "source": [
    "## Extraire les données\n",
    "\n",
    "Comme toujours, les données sous-jacentes aux DataFrames sont les colonnes donc ici les pays."
   ]
  },
  {
   "cell_type": "markdown",
   "metadata": {
    "lang": "en"
   },
   "source": [
    "### Retrieve the data\n",
    "\n",
    "As always, the data underlying the DataFrames are the columns so here the countries."
   ]
  },
  {
   "cell_type": "code",
   "execution_count": 9,
   "metadata": {},
   "outputs": [
    {
     "data": {
      "text/plain": [
       "incomes   1960     430.00\n",
       "          1970     565.00\n",
       "          1980     856.00\n",
       "          1990    1153.00\n",
       "          2000    1475.00\n",
       "          2010    1975.00\n",
       "children  1960       6.63\n",
       "          1970       5.94\n",
       "          1980       5.37\n",
       "          1990       4.35\n",
       "          2000       3.31\n",
       "          2010       2.88\n",
       "Name: Egypt, dtype: float64"
      ]
     },
     "execution_count": 9,
     "metadata": {},
     "output_type": "execute_result"
    }
   ],
   "source": [
    "df.Egypt"
   ]
  },
  {
   "cell_type": "markdown",
   "metadata": {
    "lang": "fr"
   },
   "source": [
    "On peut indiquer l'index ou les index qui nous intéressent et cela de différentes manières :"
   ]
  },
  {
   "cell_type": "markdown",
   "metadata": {
    "lang": "en"
   },
   "source": [
    "We can indicate the index or the indexes that interest us those in different ways:"
   ]
  },
  {
   "cell_type": "code",
   "execution_count": 10,
   "metadata": {},
   "outputs": [
    {
     "data": {
      "text/plain": [
       "1960     430.0\n",
       "1970     565.0\n",
       "1980     856.0\n",
       "1990    1153.0\n",
       "2000    1475.0\n",
       "2010    1975.0\n",
       "Name: Egypt, dtype: float64"
      ]
     },
     "execution_count": 10,
     "metadata": {},
     "output_type": "execute_result"
    }
   ],
   "source": [
    "df.Egypt['incomes']"
   ]
  },
  {
   "cell_type": "code",
   "execution_count": 12,
   "metadata": {},
   "outputs": [
    {
     "data": {
      "text/plain": [
       "1960     430.0\n",
       "1970     565.0\n",
       "1980     856.0\n",
       "1990    1153.0\n",
       "2000    1475.0\n",
       "2010    1975.0\n",
       "Name: Egypt, dtype: float64"
      ]
     },
     "execution_count": 12,
     "metadata": {},
     "output_type": "execute_result"
    }
   ],
   "source": [
    "df['Egypt']['incomes']"
   ]
  },
  {
   "cell_type": "code",
   "execution_count": 13,
   "metadata": {},
   "outputs": [
    {
     "name": "stdout",
     "output_type": "stream",
     "text": [
      "Children per women in the USA in 1970 =  2.46\n",
      "Children per women in the USA in 1990 =  2.07\n"
     ]
    }
   ],
   "source": [
    "print(\"Children per women in the USA in 1970 = \", df.USA['children'][1970])\n",
    "print(\"Children per women in the USA in 1990 = \", df.USA['children',1990])"
   ]
  },
  {
   "cell_type": "code",
   "execution_count": 14,
   "metadata": {},
   "outputs": [
    {
     "data": {
      "text/plain": [
       "'France data in 2000:'"
      ]
     },
     "metadata": {},
     "output_type": "display_data"
    },
    {
     "data": {
      "text/plain": [
       "incomes     21774.00\n",
       "children        1.82\n",
       "Name: France, dtype: float64"
      ]
     },
     "metadata": {},
     "output_type": "display_data"
    }
   ],
   "source": [
    "display('France data in 2000:',                   df['France'][:, 2000])"
   ]
  },
  {
   "cell_type": "markdown",
   "metadata": {
    "lang": "fr"
   },
   "source": [
    "#### Extraction d'un bloc\n",
    "\n",
    "Avec `loc` on récupère un sous-tableau en spécifiant les valeurs **des 2 index** et les valeurs des colonnes que l'on désire.\n",
    "\n",
    "On peut aussi spécifier seulement l'index de niveau 0 ou des tranches en spécifiant chaque sous-index."
   ]
  },
  {
   "cell_type": "markdown",
   "metadata": {
    "lang": "en"
   },
   "source": [
    "#### Extracting a block\n",
    "\n",
    "With `loc` we get a sub-array by specifying the values **of the 2 indexes** and the values of the columns that we want.\n",
    "\n",
    "You can also specify only the level 0 index or slices by specifying each subindex."
   ]
  },
  {
   "cell_type": "code",
   "execution_count": 15,
   "metadata": {},
   "outputs": [
    {
     "data": {
      "text/html": [
       "<div>\n",
       "<style scoped>\n",
       "    .dataframe tbody tr th:only-of-type {\n",
       "        vertical-align: middle;\n",
       "    }\n",
       "\n",
       "    .dataframe tbody tr th {\n",
       "        vertical-align: top;\n",
       "    }\n",
       "\n",
       "    .dataframe thead th {\n",
       "        text-align: right;\n",
       "    }\n",
       "</style>\n",
       "<table border=\"1\" class=\"dataframe\">\n",
       "  <thead>\n",
       "    <tr style=\"text-align: right;\">\n",
       "      <th></th>\n",
       "      <th></th>\n",
       "      <th>Argentina</th>\n",
       "      <th>Egypt</th>\n",
       "      <th>France</th>\n",
       "      <th>Sweden</th>\n",
       "      <th>USA</th>\n",
       "    </tr>\n",
       "  </thead>\n",
       "  <tbody>\n",
       "    <tr>\n",
       "      <th rowspan=\"2\" valign=\"top\">incomes</th>\n",
       "      <th>1960</th>\n",
       "      <td>5251.0</td>\n",
       "      <td>430.0</td>\n",
       "      <td>7499.0</td>\n",
       "      <td>11360.0</td>\n",
       "      <td>13723.0</td>\n",
       "    </tr>\n",
       "    <tr>\n",
       "      <th>2010</th>\n",
       "      <td>10749.0</td>\n",
       "      <td>1975.0</td>\n",
       "      <td>22758.0</td>\n",
       "      <td>32631.0</td>\n",
       "      <td>37329.0</td>\n",
       "    </tr>\n",
       "  </tbody>\n",
       "</table>\n",
       "</div>"
      ],
      "text/plain": [
       "              Argentina   Egypt   France   Sweden      USA\n",
       "incomes 1960     5251.0   430.0   7499.0  11360.0  13723.0\n",
       "        2010    10749.0  1975.0  22758.0  32631.0  37329.0"
      ]
     },
     "execution_count": 15,
     "metadata": {},
     "output_type": "execute_result"
    }
   ],
   "source": [
    "df.loc[('incomes', [1960,2010]), :]"
   ]
  },
  {
   "cell_type": "code",
   "execution_count": 16,
   "metadata": {},
   "outputs": [
    {
     "data": {
      "text/html": [
       "<div>\n",
       "<style scoped>\n",
       "    .dataframe tbody tr th:only-of-type {\n",
       "        vertical-align: middle;\n",
       "    }\n",
       "\n",
       "    .dataframe tbody tr th {\n",
       "        vertical-align: top;\n",
       "    }\n",
       "\n",
       "    .dataframe thead th {\n",
       "        text-align: right;\n",
       "    }\n",
       "</style>\n",
       "<table border=\"1\" class=\"dataframe\">\n",
       "  <thead>\n",
       "    <tr style=\"text-align: right;\">\n",
       "      <th></th>\n",
       "      <th>Argentina</th>\n",
       "      <th>Egypt</th>\n",
       "      <th>France</th>\n",
       "      <th>Sweden</th>\n",
       "      <th>USA</th>\n",
       "    </tr>\n",
       "  </thead>\n",
       "  <tbody>\n",
       "    <tr>\n",
       "      <th>1960</th>\n",
       "      <td>3.11</td>\n",
       "      <td>6.63</td>\n",
       "      <td>2.77</td>\n",
       "      <td>2.20</td>\n",
       "      <td>3.67</td>\n",
       "    </tr>\n",
       "    <tr>\n",
       "      <th>1970</th>\n",
       "      <td>3.07</td>\n",
       "      <td>5.94</td>\n",
       "      <td>2.49</td>\n",
       "      <td>1.92</td>\n",
       "      <td>2.46</td>\n",
       "    </tr>\n",
       "    <tr>\n",
       "      <th>1980</th>\n",
       "      <td>3.33</td>\n",
       "      <td>5.37</td>\n",
       "      <td>1.83</td>\n",
       "      <td>1.68</td>\n",
       "      <td>1.82</td>\n",
       "    </tr>\n",
       "    <tr>\n",
       "      <th>1990</th>\n",
       "      <td>2.99</td>\n",
       "      <td>4.35</td>\n",
       "      <td>1.75</td>\n",
       "      <td>2.14</td>\n",
       "      <td>2.07</td>\n",
       "    </tr>\n",
       "    <tr>\n",
       "      <th>2000</th>\n",
       "      <td>2.48</td>\n",
       "      <td>3.31</td>\n",
       "      <td>1.82</td>\n",
       "      <td>1.56</td>\n",
       "      <td>2.05</td>\n",
       "    </tr>\n",
       "    <tr>\n",
       "      <th>2010</th>\n",
       "      <td>2.22</td>\n",
       "      <td>2.88</td>\n",
       "      <td>1.98</td>\n",
       "      <td>1.99</td>\n",
       "      <td>1.93</td>\n",
       "    </tr>\n",
       "  </tbody>\n",
       "</table>\n",
       "</div>"
      ],
      "text/plain": [
       "      Argentina  Egypt  France  Sweden   USA\n",
       "1960       3.11   6.63    2.77    2.20  3.67\n",
       "1970       3.07   5.94    2.49    1.92  2.46\n",
       "1980       3.33   5.37    1.83    1.68  1.82\n",
       "1990       2.99   4.35    1.75    2.14  2.07\n",
       "2000       2.48   3.31    1.82    1.56  2.05\n",
       "2010       2.22   2.88    1.98    1.99  1.93"
      ]
     },
     "execution_count": 16,
     "metadata": {},
     "output_type": "execute_result"
    }
   ],
   "source": [
    "df.loc['children'] "
   ]
  },
  {
   "cell_type": "code",
   "execution_count": 17,
   "metadata": {},
   "outputs": [
    {
     "data": {
      "text/html": [
       "<div>\n",
       "<style scoped>\n",
       "    .dataframe tbody tr th:only-of-type {\n",
       "        vertical-align: middle;\n",
       "    }\n",
       "\n",
       "    .dataframe tbody tr th {\n",
       "        vertical-align: top;\n",
       "    }\n",
       "\n",
       "    .dataframe thead th {\n",
       "        text-align: right;\n",
       "    }\n",
       "</style>\n",
       "<table border=\"1\" class=\"dataframe\">\n",
       "  <thead>\n",
       "    <tr style=\"text-align: right;\">\n",
       "      <th></th>\n",
       "      <th></th>\n",
       "      <th>Egypt</th>\n",
       "      <th>France</th>\n",
       "      <th>Sweden</th>\n",
       "    </tr>\n",
       "  </thead>\n",
       "  <tbody>\n",
       "    <tr>\n",
       "      <th rowspan=\"4\" valign=\"top\">incomes</th>\n",
       "      <th>1970</th>\n",
       "      <td>565.0</td>\n",
       "      <td>11572.0</td>\n",
       "      <td>16570.0</td>\n",
       "    </tr>\n",
       "    <tr>\n",
       "      <th>1980</th>\n",
       "      <td>856.0</td>\n",
       "      <td>15641.0</td>\n",
       "      <td>19470.0</td>\n",
       "    </tr>\n",
       "    <tr>\n",
       "      <th>1990</th>\n",
       "      <td>1153.0</td>\n",
       "      <td>18731.0</td>\n",
       "      <td>23492.0</td>\n",
       "    </tr>\n",
       "    <tr>\n",
       "      <th>2000</th>\n",
       "      <td>1475.0</td>\n",
       "      <td>21774.0</td>\n",
       "      <td>27869.0</td>\n",
       "    </tr>\n",
       "  </tbody>\n",
       "</table>\n",
       "</div>"
      ],
      "text/plain": [
       "               Egypt   France   Sweden\n",
       "incomes 1970   565.0  11572.0  16570.0\n",
       "        1980   856.0  15641.0  19470.0\n",
       "        1990  1153.0  18731.0  23492.0\n",
       "        2000  1475.0  21774.0  27869.0"
      ]
     },
     "execution_count": 17,
     "metadata": {},
     "output_type": "execute_result"
    }
   ],
   "source": [
    "df.loc[('incomes',1970):('incomes', 2000), 'Egypt':'Sweden']"
   ]
  },
  {
   "cell_type": "markdown",
   "metadata": {
    "lang": "fr"
   },
   "source": [
    "#### Tous les éléments d'un index\n",
    "\n",
    "Pour une bête raison de syntaxe Python il n'est pas possible d'utiliser le signe `:` entre des parenthèses et donc\n",
    "on ne peut pas faire `df.loc[(:,1960), :]` pour indiquer toutes les valeurs de 1960. Il faut utiliser au choix :\n",
    "\n",
    "\n",
    "* `slice(None)` à la place des `:` dans la formulation usuelle\n",
    "* `pd.IndexSlice[:,1960]`\n",
    "\n",
    "__Attention__ `df.loc['children','France']` ne marche pas car on ne spécifie pas les années. Par contre `df.loc['children']['France']` marche car `loc` extrait le sous-tableau des enfants et sur ce résultat, on demande la colonne France."
   ]
  },
  {
   "cell_type": "markdown",
   "metadata": {
    "lang": "en"
   },
   "source": [
    "#### All the elements of an index\n",
    "\n",
    "Python syntax forbides to use the `:` sign between parentheses. Therefore\n",
    "we cannot do `df.loc[(:, 1960),:]` to retreive all the values of 1960. We must use at choice:\n",
    "\n",
    "\n",
    "* `slice(None)` instead of `:`\n",
    "* `pd.IndexSlice [:, 1960]`\n",
    "\n",
    "__Attention__ `df.loc['children', 'France']` does not work because we do not specify the year. On the other hand, `df.loc['children']['France']` works because the sub-array of children is extracted and on this result, the column France is requested."
   ]
  },
  {
   "cell_type": "code",
   "execution_count": 33,
   "metadata": {},
   "outputs": [
    {
     "data": {
      "text/html": [
       "<div>\n",
       "<style scoped>\n",
       "    .dataframe tbody tr th:only-of-type {\n",
       "        vertical-align: middle;\n",
       "    }\n",
       "\n",
       "    .dataframe tbody tr th {\n",
       "        vertical-align: top;\n",
       "    }\n",
       "\n",
       "    .dataframe thead th {\n",
       "        text-align: right;\n",
       "    }\n",
       "</style>\n",
       "<table border=\"1\" class=\"dataframe\">\n",
       "  <thead>\n",
       "    <tr style=\"text-align: right;\">\n",
       "      <th></th>\n",
       "      <th></th>\n",
       "      <th>Argentina</th>\n",
       "      <th>Egypt</th>\n",
       "      <th>France</th>\n",
       "      <th>Sweden</th>\n",
       "      <th>USA</th>\n",
       "    </tr>\n",
       "  </thead>\n",
       "  <tbody>\n",
       "    <tr>\n",
       "      <th>incomes</th>\n",
       "      <th>1960</th>\n",
       "      <td>5251.00</td>\n",
       "      <td>430.00</td>\n",
       "      <td>7499.00</td>\n",
       "      <td>11360.0</td>\n",
       "      <td>13723.00</td>\n",
       "    </tr>\n",
       "    <tr>\n",
       "      <th>children</th>\n",
       "      <th>1960</th>\n",
       "      <td>3.11</td>\n",
       "      <td>6.63</td>\n",
       "      <td>2.77</td>\n",
       "      <td>2.2</td>\n",
       "      <td>3.67</td>\n",
       "    </tr>\n",
       "  </tbody>\n",
       "</table>\n",
       "</div>"
      ],
      "text/plain": [
       "               Argentina   Egypt   France   Sweden       USA\n",
       "incomes  1960    5251.00  430.00  7499.00  11360.0  13723.00\n",
       "children 1960       3.11    6.63     2.77      2.2      3.67"
      ]
     },
     "execution_count": 33,
     "metadata": {},
     "output_type": "execute_result"
    }
   ],
   "source": [
    "df.loc[(slice(None), 1960), :]"
   ]
  },
  {
   "cell_type": "code",
   "execution_count": 34,
   "metadata": {},
   "outputs": [
    {
     "data": {
      "text/html": [
       "<div>\n",
       "<style scoped>\n",
       "    .dataframe tbody tr th:only-of-type {\n",
       "        vertical-align: middle;\n",
       "    }\n",
       "\n",
       "    .dataframe tbody tr th {\n",
       "        vertical-align: top;\n",
       "    }\n",
       "\n",
       "    .dataframe thead th {\n",
       "        text-align: right;\n",
       "    }\n",
       "</style>\n",
       "<table border=\"1\" class=\"dataframe\">\n",
       "  <thead>\n",
       "    <tr style=\"text-align: right;\">\n",
       "      <th></th>\n",
       "      <th></th>\n",
       "      <th>Argentina</th>\n",
       "      <th>Egypt</th>\n",
       "      <th>France</th>\n",
       "      <th>Sweden</th>\n",
       "      <th>USA</th>\n",
       "    </tr>\n",
       "  </thead>\n",
       "  <tbody>\n",
       "    <tr>\n",
       "      <th rowspan=\"3\" valign=\"top\">incomes</th>\n",
       "      <th>1990</th>\n",
       "      <td>5581.00</td>\n",
       "      <td>1153.00</td>\n",
       "      <td>18731.00</td>\n",
       "      <td>23492.00</td>\n",
       "      <td>28298.00</td>\n",
       "    </tr>\n",
       "    <tr>\n",
       "      <th>2000</th>\n",
       "      <td>7695.00</td>\n",
       "      <td>1475.00</td>\n",
       "      <td>21774.00</td>\n",
       "      <td>27869.00</td>\n",
       "      <td>35081.00</td>\n",
       "    </tr>\n",
       "    <tr>\n",
       "      <th>2010</th>\n",
       "      <td>10749.00</td>\n",
       "      <td>1975.00</td>\n",
       "      <td>22758.00</td>\n",
       "      <td>32631.00</td>\n",
       "      <td>37329.00</td>\n",
       "    </tr>\n",
       "    <tr>\n",
       "      <th rowspan=\"3\" valign=\"top\">children</th>\n",
       "      <th>1990</th>\n",
       "      <td>2.99</td>\n",
       "      <td>4.35</td>\n",
       "      <td>1.75</td>\n",
       "      <td>2.14</td>\n",
       "      <td>2.07</td>\n",
       "    </tr>\n",
       "    <tr>\n",
       "      <th>2000</th>\n",
       "      <td>2.48</td>\n",
       "      <td>3.31</td>\n",
       "      <td>1.82</td>\n",
       "      <td>1.56</td>\n",
       "      <td>2.05</td>\n",
       "    </tr>\n",
       "    <tr>\n",
       "      <th>2010</th>\n",
       "      <td>2.22</td>\n",
       "      <td>2.88</td>\n",
       "      <td>1.98</td>\n",
       "      <td>1.99</td>\n",
       "      <td>1.93</td>\n",
       "    </tr>\n",
       "  </tbody>\n",
       "</table>\n",
       "</div>"
      ],
      "text/plain": [
       "               Argentina    Egypt    France    Sweden       USA\n",
       "incomes  1990    5581.00  1153.00  18731.00  23492.00  28298.00\n",
       "         2000    7695.00  1475.00  21774.00  27869.00  35081.00\n",
       "         2010   10749.00  1975.00  22758.00  32631.00  37329.00\n",
       "children 1990       2.99     4.35      1.75      2.14      2.07\n",
       "         2000       2.48     3.31      1.82      1.56      2.05\n",
       "         2010       2.22     2.88      1.98      1.99      1.93"
      ]
     },
     "execution_count": 34,
     "metadata": {},
     "output_type": "execute_result"
    }
   ],
   "source": [
    "df.loc[pd.IndexSlice[:, 1990:2010], :]"
   ]
  },
  {
   "cell_type": "markdown",
   "metadata": {
    "lang": "fr"
   },
   "source": [
    "## Multi-colonnes\n",
    "\n",
    "Multi-index peut aussi être multi-colonnes. Tout est symétrique. On peut aussi avoir multi-index et multi-colonnes et ce avec autant de niveaux de profondeur qu'on veut."
   ]
  },
  {
   "cell_type": "markdown",
   "metadata": {
    "lang": "en"
   },
   "source": [
    "## Multi-columns\n",
    "\n",
    "Multi-index can also be multi-column. Everything is symmetrical. We can also have multi-index and multi-columns with as much level of depth as we want."
   ]
  },
  {
   "cell_type": "code",
   "execution_count": 35,
   "metadata": {},
   "outputs": [
    {
     "data": {
      "text/html": [
       "<div>\n",
       "<style scoped>\n",
       "    .dataframe tbody tr th:only-of-type {\n",
       "        vertical-align: middle;\n",
       "    }\n",
       "\n",
       "    .dataframe tbody tr th {\n",
       "        vertical-align: top;\n",
       "    }\n",
       "\n",
       "    .dataframe thead tr th {\n",
       "        text-align: left;\n",
       "    }\n",
       "</style>\n",
       "<table border=\"1\" class=\"dataframe\">\n",
       "  <thead>\n",
       "    <tr>\n",
       "      <th></th>\n",
       "      <th colspan=\"6\" halign=\"left\">incomes</th>\n",
       "      <th colspan=\"6\" halign=\"left\">children</th>\n",
       "    </tr>\n",
       "    <tr>\n",
       "      <th></th>\n",
       "      <th>1960</th>\n",
       "      <th>1970</th>\n",
       "      <th>1980</th>\n",
       "      <th>1990</th>\n",
       "      <th>2000</th>\n",
       "      <th>2010</th>\n",
       "      <th>1960</th>\n",
       "      <th>1970</th>\n",
       "      <th>1980</th>\n",
       "      <th>1990</th>\n",
       "      <th>2000</th>\n",
       "      <th>2010</th>\n",
       "    </tr>\n",
       "  </thead>\n",
       "  <tbody>\n",
       "    <tr>\n",
       "      <th>Argentina</th>\n",
       "      <td>5251.0</td>\n",
       "      <td>6611.0</td>\n",
       "      <td>7540.0</td>\n",
       "      <td>5581.0</td>\n",
       "      <td>7695.0</td>\n",
       "      <td>10749.0</td>\n",
       "      <td>3.11</td>\n",
       "      <td>3.07</td>\n",
       "      <td>3.33</td>\n",
       "      <td>2.99</td>\n",
       "      <td>2.48</td>\n",
       "      <td>2.22</td>\n",
       "    </tr>\n",
       "    <tr>\n",
       "      <th>Egypt</th>\n",
       "      <td>430.0</td>\n",
       "      <td>565.0</td>\n",
       "      <td>856.0</td>\n",
       "      <td>1153.0</td>\n",
       "      <td>1475.0</td>\n",
       "      <td>1975.0</td>\n",
       "      <td>6.63</td>\n",
       "      <td>5.94</td>\n",
       "      <td>5.37</td>\n",
       "      <td>4.35</td>\n",
       "      <td>3.31</td>\n",
       "      <td>2.88</td>\n",
       "    </tr>\n",
       "    <tr>\n",
       "      <th>France</th>\n",
       "      <td>7499.0</td>\n",
       "      <td>11572.0</td>\n",
       "      <td>15641.0</td>\n",
       "      <td>18731.0</td>\n",
       "      <td>21774.0</td>\n",
       "      <td>22758.0</td>\n",
       "      <td>2.77</td>\n",
       "      <td>2.49</td>\n",
       "      <td>1.83</td>\n",
       "      <td>1.75</td>\n",
       "      <td>1.82</td>\n",
       "      <td>1.98</td>\n",
       "    </tr>\n",
       "    <tr>\n",
       "      <th>Sweden</th>\n",
       "      <td>11360.0</td>\n",
       "      <td>16570.0</td>\n",
       "      <td>19470.0</td>\n",
       "      <td>23492.0</td>\n",
       "      <td>27869.0</td>\n",
       "      <td>32631.0</td>\n",
       "      <td>2.20</td>\n",
       "      <td>1.92</td>\n",
       "      <td>1.68</td>\n",
       "      <td>2.14</td>\n",
       "      <td>1.56</td>\n",
       "      <td>1.99</td>\n",
       "    </tr>\n",
       "    <tr>\n",
       "      <th>USA</th>\n",
       "      <td>13723.0</td>\n",
       "      <td>18228.0</td>\n",
       "      <td>22630.0</td>\n",
       "      <td>28298.0</td>\n",
       "      <td>35081.0</td>\n",
       "      <td>37329.0</td>\n",
       "      <td>3.67</td>\n",
       "      <td>2.46</td>\n",
       "      <td>1.82</td>\n",
       "      <td>2.07</td>\n",
       "      <td>2.05</td>\n",
       "      <td>1.93</td>\n",
       "    </tr>\n",
       "  </tbody>\n",
       "</table>\n",
       "</div>"
      ],
      "text/plain": [
       "           incomes                                              children  \\\n",
       "              1960     1970     1980     1990     2000     2010     1960   \n",
       "Argentina   5251.0   6611.0   7540.0   5581.0   7695.0  10749.0     3.11   \n",
       "Egypt        430.0    565.0    856.0   1153.0   1475.0   1975.0     6.63   \n",
       "France      7499.0  11572.0  15641.0  18731.0  21774.0  22758.0     2.77   \n",
       "Sweden     11360.0  16570.0  19470.0  23492.0  27869.0  32631.0     2.20   \n",
       "USA        13723.0  18228.0  22630.0  28298.0  35081.0  37329.0     3.67   \n",
       "\n",
       "                                         \n",
       "           1970  1980  1990  2000  2010  \n",
       "Argentina  3.07  3.33  2.99  2.48  2.22  \n",
       "Egypt      5.94  5.37  4.35  3.31  2.88  \n",
       "France     2.49  1.83  1.75  1.82  1.98  \n",
       "Sweden     1.92  1.68  2.14  1.56  1.99  \n",
       "USA        2.46  1.82  2.07  2.05  1.93  "
      ]
     },
     "execution_count": 35,
     "metadata": {},
     "output_type": "execute_result"
    }
   ],
   "source": [
    "df.T  # transpose"
   ]
  },
  {
   "cell_type": "code",
   "execution_count": 36,
   "metadata": {},
   "outputs": [
    {
     "data": {
      "text/plain": [
       "Argentina    3.07\n",
       "Egypt        5.94\n",
       "France       2.49\n",
       "Sweden       1.92\n",
       "USA          2.46\n",
       "Name: 1970, dtype: float64"
      ]
     },
     "execution_count": 36,
     "metadata": {},
     "output_type": "execute_result"
    }
   ],
   "source": [
    "df.T.children[1970]"
   ]
  },
  {
   "cell_type": "markdown",
   "metadata": {
    "lang": "en"
   },
   "source": [
    "## Modify an index level\n",
    "\n",
    "It is possible to use [`set_levels`](https://pandas.pydata.org/pandas-docs/stable/generated/pandas.MultiIndex.set_ levels.html) to change a level of a multi-index."
   ]
  },
  {
   "cell_type": "markdown",
   "metadata": {
    "lang": "fr"
   },
   "source": [
    "## Colonne vers index et inversement\n",
    "\n",
    "Les index et sous-index ne sont pas figés dans leur état mais peut devenir des colonnes du tableau et\n",
    "dans l'autre sens des colonnes peuvent servir d'index. Pour cela\n",
    " [`set_index`](https://pandas.pydata.org/pandas-docs/stable/generated/pandas.DataFrame.set_index.html) permet de modifier un index soit en donnant\n",
    "directement ses valeurs, soit en prenant une colonne pour qu'elle devienne l'index (cas le plus courant).\n",
    "\n",
    "L'inverse se fait avec [`reset_index`](https://pandas.pydata.org/pandas-docs/stable/generated/pandas.DataFrame.reset_index.html)."
   ]
  },
  {
   "cell_type": "markdown",
   "metadata": {
    "lang": "en"
   },
   "source": [
    "## Column to index and vice versa\n",
    "\n",
    "If `set_levels` allows you to modify an index level, [`set_index`](https://pandas.pydata.org/pandas-docs/stable/generated/pandas.DataFrame.set _index.html) allows to modify an index either by giving\n",
    "directly its values, either by choosing a column to becomes the index (most common case).\n",
    "\n",
    "The inverse is possible with [`reset_index`](https://pandas.pydata.org/pandas-docs/stable/generated/pandas.DataFrame.reset_index.html)."
   ]
  },
  {
   "cell_type": "code",
   "execution_count": 37,
   "metadata": {},
   "outputs": [
    {
     "data": {
      "text/html": [
       "<div>\n",
       "<style scoped>\n",
       "    .dataframe tbody tr th:only-of-type {\n",
       "        vertical-align: middle;\n",
       "    }\n",
       "\n",
       "    .dataframe tbody tr th {\n",
       "        vertical-align: top;\n",
       "    }\n",
       "\n",
       "    .dataframe thead th {\n",
       "        text-align: right;\n",
       "    }\n",
       "</style>\n",
       "<table border=\"1\" class=\"dataframe\">\n",
       "  <thead>\n",
       "    <tr style=\"text-align: right;\">\n",
       "      <th></th>\n",
       "      <th></th>\n",
       "      <th>Argentina</th>\n",
       "      <th>Egypt</th>\n",
       "      <th>France</th>\n",
       "      <th>Sweden</th>\n",
       "      <th>USA</th>\n",
       "    </tr>\n",
       "  </thead>\n",
       "  <tbody>\n",
       "    <tr>\n",
       "      <th rowspan=\"6\" valign=\"top\">incomes</th>\n",
       "      <th>1960</th>\n",
       "      <td>5251.00</td>\n",
       "      <td>430.00</td>\n",
       "      <td>7499.00</td>\n",
       "      <td>11360.00</td>\n",
       "      <td>13723.00</td>\n",
       "    </tr>\n",
       "    <tr>\n",
       "      <th>1970</th>\n",
       "      <td>6611.00</td>\n",
       "      <td>565.00</td>\n",
       "      <td>11572.00</td>\n",
       "      <td>16570.00</td>\n",
       "      <td>18228.00</td>\n",
       "    </tr>\n",
       "    <tr>\n",
       "      <th>1980</th>\n",
       "      <td>7540.00</td>\n",
       "      <td>856.00</td>\n",
       "      <td>15641.00</td>\n",
       "      <td>19470.00</td>\n",
       "      <td>22630.00</td>\n",
       "    </tr>\n",
       "    <tr>\n",
       "      <th>1990</th>\n",
       "      <td>5581.00</td>\n",
       "      <td>1153.00</td>\n",
       "      <td>18731.00</td>\n",
       "      <td>23492.00</td>\n",
       "      <td>28298.00</td>\n",
       "    </tr>\n",
       "    <tr>\n",
       "      <th>2000</th>\n",
       "      <td>7695.00</td>\n",
       "      <td>1475.00</td>\n",
       "      <td>21774.00</td>\n",
       "      <td>27869.00</td>\n",
       "      <td>35081.00</td>\n",
       "    </tr>\n",
       "    <tr>\n",
       "      <th>2010</th>\n",
       "      <td>10749.00</td>\n",
       "      <td>1975.00</td>\n",
       "      <td>22758.00</td>\n",
       "      <td>32631.00</td>\n",
       "      <td>37329.00</td>\n",
       "    </tr>\n",
       "    <tr>\n",
       "      <th rowspan=\"6\" valign=\"top\">children</th>\n",
       "      <th>1960</th>\n",
       "      <td>3.11</td>\n",
       "      <td>6.63</td>\n",
       "      <td>2.77</td>\n",
       "      <td>2.20</td>\n",
       "      <td>3.67</td>\n",
       "    </tr>\n",
       "    <tr>\n",
       "      <th>1970</th>\n",
       "      <td>3.07</td>\n",
       "      <td>5.94</td>\n",
       "      <td>2.49</td>\n",
       "      <td>1.92</td>\n",
       "      <td>2.46</td>\n",
       "    </tr>\n",
       "    <tr>\n",
       "      <th>1980</th>\n",
       "      <td>3.33</td>\n",
       "      <td>5.37</td>\n",
       "      <td>1.83</td>\n",
       "      <td>1.68</td>\n",
       "      <td>1.82</td>\n",
       "    </tr>\n",
       "    <tr>\n",
       "      <th>1990</th>\n",
       "      <td>2.99</td>\n",
       "      <td>4.35</td>\n",
       "      <td>1.75</td>\n",
       "      <td>2.14</td>\n",
       "      <td>2.07</td>\n",
       "    </tr>\n",
       "    <tr>\n",
       "      <th>2000</th>\n",
       "      <td>2.48</td>\n",
       "      <td>3.31</td>\n",
       "      <td>1.82</td>\n",
       "      <td>1.56</td>\n",
       "      <td>2.05</td>\n",
       "    </tr>\n",
       "    <tr>\n",
       "      <th>2010</th>\n",
       "      <td>2.22</td>\n",
       "      <td>2.88</td>\n",
       "      <td>1.98</td>\n",
       "      <td>1.99</td>\n",
       "      <td>1.93</td>\n",
       "    </tr>\n",
       "  </tbody>\n",
       "</table>\n",
       "</div>"
      ],
      "text/plain": [
       "               Argentina    Egypt    France    Sweden       USA\n",
       "incomes  1960    5251.00   430.00   7499.00  11360.00  13723.00\n",
       "         1970    6611.00   565.00  11572.00  16570.00  18228.00\n",
       "         1980    7540.00   856.00  15641.00  19470.00  22630.00\n",
       "         1990    5581.00  1153.00  18731.00  23492.00  28298.00\n",
       "         2000    7695.00  1475.00  21774.00  27869.00  35081.00\n",
       "         2010   10749.00  1975.00  22758.00  32631.00  37329.00\n",
       "children 1960       3.11     6.63      2.77      2.20      3.67\n",
       "         1970       3.07     5.94      2.49      1.92      2.46\n",
       "         1980       3.33     5.37      1.83      1.68      1.82\n",
       "         1990       2.99     4.35      1.75      2.14      2.07\n",
       "         2000       2.48     3.31      1.82      1.56      2.05\n",
       "         2010       2.22     2.88      1.98      1.99      1.93"
      ]
     },
     "execution_count": 37,
     "metadata": {},
     "output_type": "execute_result"
    }
   ],
   "source": [
    "df"
   ]
  },
  {
   "cell_type": "code",
   "execution_count": 38,
   "metadata": {},
   "outputs": [
    {
     "name": "stdout",
     "output_type": "stream",
     "text": [
      "Index(['level_1', 'Argentina', 'Egypt', 'France', 'Sweden', 'USA'], dtype='object')\n"
     ]
    },
    {
     "data": {
      "text/html": [
       "<div>\n",
       "<style scoped>\n",
       "    .dataframe tbody tr th:only-of-type {\n",
       "        vertical-align: middle;\n",
       "    }\n",
       "\n",
       "    .dataframe tbody tr th {\n",
       "        vertical-align: top;\n",
       "    }\n",
       "\n",
       "    .dataframe thead th {\n",
       "        text-align: right;\n",
       "    }\n",
       "</style>\n",
       "<table border=\"1\" class=\"dataframe\">\n",
       "  <thead>\n",
       "    <tr style=\"text-align: right;\">\n",
       "      <th></th>\n",
       "      <th>year</th>\n",
       "      <th>Argentina</th>\n",
       "      <th>Egypt</th>\n",
       "      <th>France</th>\n",
       "      <th>Sweden</th>\n",
       "      <th>USA</th>\n",
       "    </tr>\n",
       "  </thead>\n",
       "  <tbody>\n",
       "    <tr>\n",
       "      <th>incomes</th>\n",
       "      <td>1960</td>\n",
       "      <td>5251.00</td>\n",
       "      <td>430.00</td>\n",
       "      <td>7499.00</td>\n",
       "      <td>11360.00</td>\n",
       "      <td>13723.00</td>\n",
       "    </tr>\n",
       "    <tr>\n",
       "      <th>incomes</th>\n",
       "      <td>1970</td>\n",
       "      <td>6611.00</td>\n",
       "      <td>565.00</td>\n",
       "      <td>11572.00</td>\n",
       "      <td>16570.00</td>\n",
       "      <td>18228.00</td>\n",
       "    </tr>\n",
       "    <tr>\n",
       "      <th>incomes</th>\n",
       "      <td>1980</td>\n",
       "      <td>7540.00</td>\n",
       "      <td>856.00</td>\n",
       "      <td>15641.00</td>\n",
       "      <td>19470.00</td>\n",
       "      <td>22630.00</td>\n",
       "    </tr>\n",
       "    <tr>\n",
       "      <th>incomes</th>\n",
       "      <td>1990</td>\n",
       "      <td>5581.00</td>\n",
       "      <td>1153.00</td>\n",
       "      <td>18731.00</td>\n",
       "      <td>23492.00</td>\n",
       "      <td>28298.00</td>\n",
       "    </tr>\n",
       "    <tr>\n",
       "      <th>incomes</th>\n",
       "      <td>2000</td>\n",
       "      <td>7695.00</td>\n",
       "      <td>1475.00</td>\n",
       "      <td>21774.00</td>\n",
       "      <td>27869.00</td>\n",
       "      <td>35081.00</td>\n",
       "    </tr>\n",
       "    <tr>\n",
       "      <th>incomes</th>\n",
       "      <td>2010</td>\n",
       "      <td>10749.00</td>\n",
       "      <td>1975.00</td>\n",
       "      <td>22758.00</td>\n",
       "      <td>32631.00</td>\n",
       "      <td>37329.00</td>\n",
       "    </tr>\n",
       "    <tr>\n",
       "      <th>children</th>\n",
       "      <td>1960</td>\n",
       "      <td>3.11</td>\n",
       "      <td>6.63</td>\n",
       "      <td>2.77</td>\n",
       "      <td>2.20</td>\n",
       "      <td>3.67</td>\n",
       "    </tr>\n",
       "    <tr>\n",
       "      <th>children</th>\n",
       "      <td>1970</td>\n",
       "      <td>3.07</td>\n",
       "      <td>5.94</td>\n",
       "      <td>2.49</td>\n",
       "      <td>1.92</td>\n",
       "      <td>2.46</td>\n",
       "    </tr>\n",
       "    <tr>\n",
       "      <th>children</th>\n",
       "      <td>1980</td>\n",
       "      <td>3.33</td>\n",
       "      <td>5.37</td>\n",
       "      <td>1.83</td>\n",
       "      <td>1.68</td>\n",
       "      <td>1.82</td>\n",
       "    </tr>\n",
       "    <tr>\n",
       "      <th>children</th>\n",
       "      <td>1990</td>\n",
       "      <td>2.99</td>\n",
       "      <td>4.35</td>\n",
       "      <td>1.75</td>\n",
       "      <td>2.14</td>\n",
       "      <td>2.07</td>\n",
       "    </tr>\n",
       "    <tr>\n",
       "      <th>children</th>\n",
       "      <td>2000</td>\n",
       "      <td>2.48</td>\n",
       "      <td>3.31</td>\n",
       "      <td>1.82</td>\n",
       "      <td>1.56</td>\n",
       "      <td>2.05</td>\n",
       "    </tr>\n",
       "    <tr>\n",
       "      <th>children</th>\n",
       "      <td>2010</td>\n",
       "      <td>2.22</td>\n",
       "      <td>2.88</td>\n",
       "      <td>1.98</td>\n",
       "      <td>1.99</td>\n",
       "      <td>1.93</td>\n",
       "    </tr>\n",
       "  </tbody>\n",
       "</table>\n",
       "</div>"
      ],
      "text/plain": [
       "          year  Argentina    Egypt    France    Sweden       USA\n",
       "incomes   1960    5251.00   430.00   7499.00  11360.00  13723.00\n",
       "incomes   1970    6611.00   565.00  11572.00  16570.00  18228.00\n",
       "incomes   1980    7540.00   856.00  15641.00  19470.00  22630.00\n",
       "incomes   1990    5581.00  1153.00  18731.00  23492.00  28298.00\n",
       "incomes   2000    7695.00  1475.00  21774.00  27869.00  35081.00\n",
       "incomes   2010   10749.00  1975.00  22758.00  32631.00  37329.00\n",
       "children  1960       3.11     6.63      2.77      2.20      3.67\n",
       "children  1970       3.07     5.94      2.49      1.92      2.46\n",
       "children  1980       3.33     5.37      1.83      1.68      1.82\n",
       "children  1990       2.99     4.35      1.75      2.14      2.07\n",
       "children  2000       2.48     3.31      1.82      1.56      2.05\n",
       "children  2010       2.22     2.88      1.98      1.99      1.93"
      ]
     },
     "execution_count": 38,
     "metadata": {},
     "output_type": "execute_result"
    }
   ],
   "source": [
    "df2 = df.reset_index(level=1) # index to column\n",
    "print(df2.columns)\n",
    "df2.rename(columns={'level_1':'year'}, inplace=True)\n",
    "df2"
   ]
  },
  {
   "cell_type": "code",
   "execution_count": 39,
   "metadata": {},
   "outputs": [
    {
     "data": {
      "text/html": [
       "<div>\n",
       "<style scoped>\n",
       "    .dataframe tbody tr th:only-of-type {\n",
       "        vertical-align: middle;\n",
       "    }\n",
       "\n",
       "    .dataframe tbody tr th {\n",
       "        vertical-align: top;\n",
       "    }\n",
       "\n",
       "    .dataframe thead th {\n",
       "        text-align: right;\n",
       "    }\n",
       "</style>\n",
       "<table border=\"1\" class=\"dataframe\">\n",
       "  <thead>\n",
       "    <tr style=\"text-align: right;\">\n",
       "      <th></th>\n",
       "      <th></th>\n",
       "      <th>Argentina</th>\n",
       "      <th>Egypt</th>\n",
       "      <th>France</th>\n",
       "      <th>Sweden</th>\n",
       "      <th>USA</th>\n",
       "    </tr>\n",
       "    <tr>\n",
       "      <th></th>\n",
       "      <th>year</th>\n",
       "      <th></th>\n",
       "      <th></th>\n",
       "      <th></th>\n",
       "      <th></th>\n",
       "      <th></th>\n",
       "    </tr>\n",
       "  </thead>\n",
       "  <tbody>\n",
       "    <tr>\n",
       "      <th rowspan=\"6\" valign=\"top\">incomes</th>\n",
       "      <th>1960</th>\n",
       "      <td>5251.00</td>\n",
       "      <td>430.00</td>\n",
       "      <td>7499.00</td>\n",
       "      <td>11360.00</td>\n",
       "      <td>13723.00</td>\n",
       "    </tr>\n",
       "    <tr>\n",
       "      <th>1970</th>\n",
       "      <td>6611.00</td>\n",
       "      <td>565.00</td>\n",
       "      <td>11572.00</td>\n",
       "      <td>16570.00</td>\n",
       "      <td>18228.00</td>\n",
       "    </tr>\n",
       "    <tr>\n",
       "      <th>1980</th>\n",
       "      <td>7540.00</td>\n",
       "      <td>856.00</td>\n",
       "      <td>15641.00</td>\n",
       "      <td>19470.00</td>\n",
       "      <td>22630.00</td>\n",
       "    </tr>\n",
       "    <tr>\n",
       "      <th>1990</th>\n",
       "      <td>5581.00</td>\n",
       "      <td>1153.00</td>\n",
       "      <td>18731.00</td>\n",
       "      <td>23492.00</td>\n",
       "      <td>28298.00</td>\n",
       "    </tr>\n",
       "    <tr>\n",
       "      <th>2000</th>\n",
       "      <td>7695.00</td>\n",
       "      <td>1475.00</td>\n",
       "      <td>21774.00</td>\n",
       "      <td>27869.00</td>\n",
       "      <td>35081.00</td>\n",
       "    </tr>\n",
       "    <tr>\n",
       "      <th>2010</th>\n",
       "      <td>10749.00</td>\n",
       "      <td>1975.00</td>\n",
       "      <td>22758.00</td>\n",
       "      <td>32631.00</td>\n",
       "      <td>37329.00</td>\n",
       "    </tr>\n",
       "    <tr>\n",
       "      <th rowspan=\"6\" valign=\"top\">children</th>\n",
       "      <th>1960</th>\n",
       "      <td>3.11</td>\n",
       "      <td>6.63</td>\n",
       "      <td>2.77</td>\n",
       "      <td>2.20</td>\n",
       "      <td>3.67</td>\n",
       "    </tr>\n",
       "    <tr>\n",
       "      <th>1970</th>\n",
       "      <td>3.07</td>\n",
       "      <td>5.94</td>\n",
       "      <td>2.49</td>\n",
       "      <td>1.92</td>\n",
       "      <td>2.46</td>\n",
       "    </tr>\n",
       "    <tr>\n",
       "      <th>1980</th>\n",
       "      <td>3.33</td>\n",
       "      <td>5.37</td>\n",
       "      <td>1.83</td>\n",
       "      <td>1.68</td>\n",
       "      <td>1.82</td>\n",
       "    </tr>\n",
       "    <tr>\n",
       "      <th>1990</th>\n",
       "      <td>2.99</td>\n",
       "      <td>4.35</td>\n",
       "      <td>1.75</td>\n",
       "      <td>2.14</td>\n",
       "      <td>2.07</td>\n",
       "    </tr>\n",
       "    <tr>\n",
       "      <th>2000</th>\n",
       "      <td>2.48</td>\n",
       "      <td>3.31</td>\n",
       "      <td>1.82</td>\n",
       "      <td>1.56</td>\n",
       "      <td>2.05</td>\n",
       "    </tr>\n",
       "    <tr>\n",
       "      <th>2010</th>\n",
       "      <td>2.22</td>\n",
       "      <td>2.88</td>\n",
       "      <td>1.98</td>\n",
       "      <td>1.99</td>\n",
       "      <td>1.93</td>\n",
       "    </tr>\n",
       "  </tbody>\n",
       "</table>\n",
       "</div>"
      ],
      "text/plain": [
       "               Argentina    Egypt    France    Sweden       USA\n",
       "         year                                                  \n",
       "incomes  1960    5251.00   430.00   7499.00  11360.00  13723.00\n",
       "         1970    6611.00   565.00  11572.00  16570.00  18228.00\n",
       "         1980    7540.00   856.00  15641.00  19470.00  22630.00\n",
       "         1990    5581.00  1153.00  18731.00  23492.00  28298.00\n",
       "         2000    7695.00  1475.00  21774.00  27869.00  35081.00\n",
       "         2010   10749.00  1975.00  22758.00  32631.00  37329.00\n",
       "children 1960       3.11     6.63      2.77      2.20      3.67\n",
       "         1970       3.07     5.94      2.49      1.92      2.46\n",
       "         1980       3.33     5.37      1.83      1.68      1.82\n",
       "         1990       2.99     4.35      1.75      2.14      2.07\n",
       "         2000       2.48     3.31      1.82      1.56      2.05\n",
       "         2010       2.22     2.88      1.98      1.99      1.93"
      ]
     },
     "execution_count": 39,
     "metadata": {},
     "output_type": "execute_result"
    }
   ],
   "source": [
    "df2.set_index('year', append=True)  # without append it would remove the previous index (try it!)"
   ]
  },
  {
   "cell_type": "markdown",
   "metadata": {
    "lang": "fr"
   },
   "source": [
    "Lorsqu'on ajoute un niveau d'index il peut être utile de trier les index avec `sort_index` pour améliorer l'affichage et certains algorithmes qui s'appliqueront sur le DataFrame."
   ]
  },
  {
   "cell_type": "markdown",
   "metadata": {
    "lang": "en"
   },
   "source": [
    "When adding an index level it can be usefull to sort the indexes with `sort_index` to improve the display and some algorithms that will apply on the DataFrame."
   ]
  },
  {
   "cell_type": "markdown",
   "metadata": {
    "lang": "fr"
   },
   "source": [
    "## Changer la structure avec `stack` et `unstack`\n",
    "\n",
    "Il est possible de modifier la structure de notre tableau tout en gardant le nombre de dimensions. Pour notre tableau à\n",
    "3 dimensions, on peut avoir jusqu'à 3 niveaux d'index ou jusqu'à 3 niveaux de colonnes. Pour modifier la structure\n",
    "\n",
    "* `stack` augmente la profondeur de l'index et diminue la profondeur des colonnes\n",
    "* `unstack` fait l'inverse\n"
   ]
  },
  {
   "cell_type": "markdown",
   "metadata": {
    "lang": "en"
   },
   "source": [
    "## Stack & Unstack\n",
    "\n",
    "It is possible to `stack` the structure with less dimension and more depth. Thus our 3-dimensional table, 2 depths for the indexes and a depth for the columns can become a Serie (thus 1 dimension) at 3 depths."
   ]
  },
  {
   "cell_type": "code",
   "execution_count": 40,
   "metadata": {},
   "outputs": [
    {
     "data": {
      "text/html": [
       "<div>\n",
       "<style scoped>\n",
       "    .dataframe tbody tr th:only-of-type {\n",
       "        vertical-align: middle;\n",
       "    }\n",
       "\n",
       "    .dataframe tbody tr th {\n",
       "        vertical-align: top;\n",
       "    }\n",
       "\n",
       "    .dataframe thead th {\n",
       "        text-align: right;\n",
       "    }\n",
       "</style>\n",
       "<table border=\"1\" class=\"dataframe\">\n",
       "  <thead>\n",
       "    <tr style=\"text-align: right;\">\n",
       "      <th></th>\n",
       "      <th></th>\n",
       "      <th>Argentina</th>\n",
       "      <th>Sweden</th>\n",
       "    </tr>\n",
       "  </thead>\n",
       "  <tbody>\n",
       "    <tr>\n",
       "      <th rowspan=\"3\" valign=\"top\">incomes</th>\n",
       "      <th>1970</th>\n",
       "      <td>6611.00</td>\n",
       "      <td>16570.00</td>\n",
       "    </tr>\n",
       "    <tr>\n",
       "      <th>1990</th>\n",
       "      <td>5581.00</td>\n",
       "      <td>23492.00</td>\n",
       "    </tr>\n",
       "    <tr>\n",
       "      <th>2010</th>\n",
       "      <td>10749.00</td>\n",
       "      <td>32631.00</td>\n",
       "    </tr>\n",
       "    <tr>\n",
       "      <th rowspan=\"3\" valign=\"top\">children</th>\n",
       "      <th>1970</th>\n",
       "      <td>3.07</td>\n",
       "      <td>1.92</td>\n",
       "    </tr>\n",
       "    <tr>\n",
       "      <th>1990</th>\n",
       "      <td>2.99</td>\n",
       "      <td>2.14</td>\n",
       "    </tr>\n",
       "    <tr>\n",
       "      <th>2010</th>\n",
       "      <td>2.22</td>\n",
       "      <td>1.99</td>\n",
       "    </tr>\n",
       "  </tbody>\n",
       "</table>\n",
       "</div>"
      ],
      "text/plain": [
       "               Argentina    Sweden\n",
       "incomes  1970    6611.00  16570.00\n",
       "         1990    5581.00  23492.00\n",
       "         2010   10749.00  32631.00\n",
       "children 1970       3.07      1.92\n",
       "         1990       2.99      2.14\n",
       "         2010       2.22      1.99"
      ]
     },
     "execution_count": 40,
     "metadata": {},
     "output_type": "execute_result"
    }
   ],
   "source": [
    "# let use a smaller DataFrame\n",
    "df_small =df.loc[(['incomes','children'], [1970,1990,2010]), ['Argentina','Sweden']]\n",
    "df_small"
   ]
  },
  {
   "cell_type": "code",
   "execution_count": 41,
   "metadata": {},
   "outputs": [
    {
     "data": {
      "text/plain": [
       "incomes   1970  Argentina     6611.00\n",
       "                Sweden       16570.00\n",
       "          1990  Argentina     5581.00\n",
       "                Sweden       23492.00\n",
       "          2010  Argentina    10749.00\n",
       "                Sweden       32631.00\n",
       "children  1970  Argentina        3.07\n",
       "                Sweden           1.92\n",
       "          1990  Argentina        2.99\n",
       "                Sweden           2.14\n",
       "          2010  Argentina        2.22\n",
       "                Sweden           1.99\n",
       "dtype: float64"
      ]
     },
     "execution_count": 41,
     "metadata": {},
     "output_type": "execute_result"
    }
   ],
   "source": [
    "df_small.stack()"
   ]
  },
  {
   "cell_type": "markdown",
   "metadata": {
    "lang": "fr"
   },
   "source": [
    "Le résultat est une séries avec un multi-index de profondeur de 3.\n",
    "\n",
    "Dans l'autre sens avec `unstack` :"
   ]
  },
  {
   "cell_type": "markdown",
   "metadata": {
    "lang": "en"
   },
   "source": [
    "We can see that our 3-dimensional dataset.\n",
    "\n",
    "To unstack we use `unstack`:"
   ]
  },
  {
   "cell_type": "markdown",
   "metadata": {
    "lang": "en"
   },
   "source": [
    "#### Direction\n",
    "\n",
    "* `stack` moves **columns to subindex** until you have a Series\n",
    "* `unstack` moves **indexes to sub-columns** until you have a Series"
   ]
  },
  {
   "cell_type": "code",
   "execution_count": 42,
   "metadata": {},
   "outputs": [
    {
     "data": {
      "text/html": [
       "<div>\n",
       "<style scoped>\n",
       "    .dataframe tbody tr th:only-of-type {\n",
       "        vertical-align: middle;\n",
       "    }\n",
       "\n",
       "    .dataframe tbody tr th {\n",
       "        vertical-align: top;\n",
       "    }\n",
       "\n",
       "    .dataframe thead tr th {\n",
       "        text-align: left;\n",
       "    }\n",
       "</style>\n",
       "<table border=\"1\" class=\"dataframe\">\n",
       "  <thead>\n",
       "    <tr>\n",
       "      <th></th>\n",
       "      <th colspan=\"3\" halign=\"left\">Argentina</th>\n",
       "      <th colspan=\"3\" halign=\"left\">Sweden</th>\n",
       "    </tr>\n",
       "    <tr>\n",
       "      <th></th>\n",
       "      <th>1970</th>\n",
       "      <th>1990</th>\n",
       "      <th>2010</th>\n",
       "      <th>1970</th>\n",
       "      <th>1990</th>\n",
       "      <th>2010</th>\n",
       "    </tr>\n",
       "  </thead>\n",
       "  <tbody>\n",
       "    <tr>\n",
       "      <th>incomes</th>\n",
       "      <td>6611.00</td>\n",
       "      <td>5581.00</td>\n",
       "      <td>10749.00</td>\n",
       "      <td>16570.00</td>\n",
       "      <td>23492.00</td>\n",
       "      <td>32631.00</td>\n",
       "    </tr>\n",
       "    <tr>\n",
       "      <th>children</th>\n",
       "      <td>3.07</td>\n",
       "      <td>2.99</td>\n",
       "      <td>2.22</td>\n",
       "      <td>1.92</td>\n",
       "      <td>2.14</td>\n",
       "      <td>1.99</td>\n",
       "    </tr>\n",
       "  </tbody>\n",
       "</table>\n",
       "</div>"
      ],
      "text/plain": [
       "         Argentina                       Sweden                    \n",
       "              1970     1990      2010      1970      1990      2010\n",
       "incomes    6611.00  5581.00  10749.00  16570.00  23492.00  32631.00\n",
       "children      3.07     2.99      2.22      1.92      2.14      1.99"
      ]
     },
     "execution_count": 42,
     "metadata": {},
     "output_type": "execute_result"
    }
   ],
   "source": [
    "df_small.unstack()"
   ]
  },
  {
   "cell_type": "code",
   "execution_count": 43,
   "metadata": {},
   "outputs": [
    {
     "data": {
      "text/plain": [
       "Argentina  1970  incomes      6611.00\n",
       "                 children        3.07\n",
       "           1990  incomes      5581.00\n",
       "                 children        2.99\n",
       "           2010  incomes     10749.00\n",
       "                 children        2.22\n",
       "Sweden     1970  incomes     16570.00\n",
       "                 children        1.92\n",
       "           1990  incomes     23492.00\n",
       "                 children        2.14\n",
       "           2010  incomes     32631.00\n",
       "                 children        1.99\n",
       "dtype: float64"
      ]
     },
     "execution_count": 43,
     "metadata": {},
     "output_type": "execute_result"
    }
   ],
   "source": [
    "df_small.unstack().unstack()"
   ]
  },
  {
   "cell_type": "markdown",
   "metadata": {},
   "source": [
    "Là encore on arrive à une séries mais avec l'ordre des index différent du premier cas puisqu'il s'agit des colonnes, sous-colonnes et sous-sous-colonnes (qui deviennent l'index de la séries)."
   ]
  },
  {
   "cell_type": "markdown",
   "metadata": {
    "lang": "fr"
   },
   "source": [
    "## Réordonner les index\n",
    "\n",
    "Pour avoir les index dans l'ordre de son choix on peut utiliser :\n",
    "\n",
    "* `swaplevel` qui permet d'invertir 2 index\n",
    "* `reorder_levels` qui permet de réordonner globalement les index\n",
    "\n",
    "On peut aussi réordonner les colonnes en spécifiant l'axe :\n",
    "\n",
    "* sur les index (`axis = 0` ou `axis = 'index'`) \n",
    "* sur les colonnes (`axis = 1` ou `axis = 'columns'`)"
   ]
  },
  {
   "cell_type": "markdown",
   "metadata": {
    "lang": "en"
   },
   "source": [
    "## Reorder the indexes\n",
    "\n",
    "To have indexes in the order of your choice you can use:\n",
    "\n",
    "* `swaplevel` which allows to invert 2 indexes\n",
    "* `reorder_levels` which allows global reordering of indexes\n",
    "\n",
    "Columns can also be reordered by specifying the axis:\n",
    "\n",
    "* on indexes (`axis = 0` or` axis = 'index'`)\n",
    "* on columns (`axis = 1` or` axis = 'columns'`)"
   ]
  },
  {
   "cell_type": "code",
   "execution_count": 24,
   "metadata": {},
   "outputs": [
    {
     "data": {
      "text/html": [
       "<div>\n",
       "<style scoped>\n",
       "    .dataframe tbody tr th:only-of-type {\n",
       "        vertical-align: middle;\n",
       "    }\n",
       "\n",
       "    .dataframe tbody tr th {\n",
       "        vertical-align: top;\n",
       "    }\n",
       "\n",
       "    .dataframe thead th {\n",
       "        text-align: right;\n",
       "    }\n",
       "</style>\n",
       "<table border=\"1\" class=\"dataframe\">\n",
       "  <thead>\n",
       "    <tr style=\"text-align: right;\">\n",
       "      <th></th>\n",
       "      <th></th>\n",
       "      <th>Argentina</th>\n",
       "      <th>Sweden</th>\n",
       "    </tr>\n",
       "  </thead>\n",
       "  <tbody>\n",
       "    <tr>\n",
       "      <th rowspan=\"2\" valign=\"top\">1970</th>\n",
       "      <th>children</th>\n",
       "      <td>3.07</td>\n",
       "      <td>1.92</td>\n",
       "    </tr>\n",
       "    <tr>\n",
       "      <th>incomes</th>\n",
       "      <td>6611.00</td>\n",
       "      <td>16570.00</td>\n",
       "    </tr>\n",
       "    <tr>\n",
       "      <th rowspan=\"2\" valign=\"top\">1990</th>\n",
       "      <th>children</th>\n",
       "      <td>2.99</td>\n",
       "      <td>2.14</td>\n",
       "    </tr>\n",
       "    <tr>\n",
       "      <th>incomes</th>\n",
       "      <td>5581.00</td>\n",
       "      <td>23492.00</td>\n",
       "    </tr>\n",
       "    <tr>\n",
       "      <th rowspan=\"2\" valign=\"top\">2010</th>\n",
       "      <th>children</th>\n",
       "      <td>2.22</td>\n",
       "      <td>1.99</td>\n",
       "    </tr>\n",
       "    <tr>\n",
       "      <th>incomes</th>\n",
       "      <td>10749.00</td>\n",
       "      <td>32631.00</td>\n",
       "    </tr>\n",
       "  </tbody>\n",
       "</table>\n",
       "</div>"
      ],
      "text/plain": [
       "               Argentina    Sweden\n",
       "1970 children       3.07      1.92\n",
       "     incomes     6611.00  16570.00\n",
       "1990 children       2.99      2.14\n",
       "     incomes     5581.00  23492.00\n",
       "2010 children       2.22      1.99\n",
       "     incomes    10749.00  32631.00"
      ]
     },
     "execution_count": 24,
     "metadata": {},
     "output_type": "execute_result"
    }
   ],
   "source": [
    "df_small.reorder_levels([1,0], axis='index').sort_index()  # swaplevel(0,1) would have done the same"
   ]
  },
  {
   "cell_type": "markdown",
   "metadata": {
    "lang": "fr"
   },
   "source": [
    "Pour bien voir regardons avec 3 index :"
   ]
  },
  {
   "cell_type": "markdown",
   "metadata": {
    "lang": "en"
   },
   "source": [
    "To get a better grasp, let's look with 3 indexes:"
   ]
  },
  {
   "cell_type": "code",
   "execution_count": 25,
   "metadata": {},
   "outputs": [
    {
     "data": {
      "text/plain": [
       "children  1970  Argentina        3.07\n",
       "                Sweden           1.92\n",
       "          1990  Argentina        2.99\n",
       "                Sweden           2.14\n",
       "          2010  Argentina        2.22\n",
       "                Sweden           1.99\n",
       "incomes   1970  Argentina     6611.00\n",
       "                Sweden       16570.00\n",
       "          1990  Argentina     5581.00\n",
       "                Sweden       23492.00\n",
       "          2010  Argentina    10749.00\n",
       "                Sweden       32631.00\n",
       "dtype: float64"
      ]
     },
     "execution_count": 25,
     "metadata": {},
     "output_type": "execute_result"
    }
   ],
   "source": [
    "dfss = df_small.stack()\n",
    "dfss"
   ]
  },
  {
   "cell_type": "code",
   "execution_count": 26,
   "metadata": {},
   "outputs": [
    {
     "data": {
      "text/plain": [
       "1970  children  Argentina        3.07\n",
       "                Sweden           1.92\n",
       "1990  children  Argentina        2.99\n",
       "                Sweden           2.14\n",
       "2010  children  Argentina        2.22\n",
       "                Sweden           1.99\n",
       "1970  incomes   Argentina     6611.00\n",
       "                Sweden       16570.00\n",
       "1990  incomes   Argentina     5581.00\n",
       "                Sweden       23492.00\n",
       "2010  incomes   Argentina    10749.00\n",
       "                Sweden       32631.00\n",
       "dtype: float64"
      ]
     },
     "execution_count": 26,
     "metadata": {},
     "output_type": "execute_result"
    }
   ],
   "source": [
    "dfss.swaplevel(0,1)"
   ]
  },
  {
   "cell_type": "markdown",
   "metadata": {},
   "source": [
    "Ce n'est pas très joli d'avoir plusieurs fois la même année dans l'index (simple problème d'affichage). Pour éviter cela on va trier\n",
    "l'index dans le cas suivant après avoir totalement réordonné l'index."
   ]
  },
  {
   "cell_type": "code",
   "execution_count": 27,
   "metadata": {},
   "outputs": [
    {
     "data": {
      "text/plain": [
       "Argentina  1970  children        3.07\n",
       "                 incomes      6611.00\n",
       "           1990  children        2.99\n",
       "                 incomes      5581.00\n",
       "           2010  children        2.22\n",
       "                 incomes     10749.00\n",
       "Sweden     1970  children        1.92\n",
       "                 incomes     16570.00\n",
       "           1990  children        2.14\n",
       "                 incomes     23492.00\n",
       "           2010  children        1.99\n",
       "                 incomes     32631.00\n",
       "dtype: float64"
      ]
     },
     "execution_count": 27,
     "metadata": {},
     "output_type": "execute_result"
    }
   ],
   "source": [
    "dfss.reorder_levels([2,1,0]).sort_index()"
   ]
  },
  {
   "cell_type": "markdown",
   "metadata": {
    "lang": "fr"
   },
   "source": [
    "## Renommer un niveau de l'index\n",
    "\n",
    "Il est possible d'utiliser [`set_levels`](https://pandas.pydata.org/pandas-docs/stable/generated/pandas.MultiIndex.set_levels.html) pour modifier les valeurs d'un niveau d'un multi-index."
   ]
  },
  {
   "cell_type": "code",
   "execution_count": 17,
   "metadata": {},
   "outputs": [
    {
     "data": {
      "text/html": [
       "<div>\n",
       "<style scoped>\n",
       "    .dataframe tbody tr th:only-of-type {\n",
       "        vertical-align: middle;\n",
       "    }\n",
       "\n",
       "    .dataframe tbody tr th {\n",
       "        vertical-align: top;\n",
       "    }\n",
       "\n",
       "    .dataframe thead th {\n",
       "        text-align: right;\n",
       "    }\n",
       "</style>\n",
       "<table border=\"1\" class=\"dataframe\">\n",
       "  <thead>\n",
       "    <tr style=\"text-align: right;\">\n",
       "      <th></th>\n",
       "      <th></th>\n",
       "      <th>Argentina</th>\n",
       "      <th>Egypt</th>\n",
       "      <th>France</th>\n",
       "      <th>Sweden</th>\n",
       "      <th>USA</th>\n",
       "    </tr>\n",
       "  </thead>\n",
       "  <tbody>\n",
       "    <tr>\n",
       "      <th rowspan=\"6\" valign=\"top\">enfants</th>\n",
       "      <th>1960</th>\n",
       "      <td>3.11</td>\n",
       "      <td>6.63</td>\n",
       "      <td>2.77</td>\n",
       "      <td>2.20</td>\n",
       "      <td>3.67</td>\n",
       "    </tr>\n",
       "    <tr>\n",
       "      <th>1970</th>\n",
       "      <td>3.07</td>\n",
       "      <td>5.94</td>\n",
       "      <td>2.49</td>\n",
       "      <td>1.92</td>\n",
       "      <td>2.46</td>\n",
       "    </tr>\n",
       "    <tr>\n",
       "      <th>1980</th>\n",
       "      <td>3.33</td>\n",
       "      <td>5.37</td>\n",
       "      <td>1.83</td>\n",
       "      <td>1.68</td>\n",
       "      <td>1.82</td>\n",
       "    </tr>\n",
       "    <tr>\n",
       "      <th>1990</th>\n",
       "      <td>2.99</td>\n",
       "      <td>4.35</td>\n",
       "      <td>1.75</td>\n",
       "      <td>2.14</td>\n",
       "      <td>2.07</td>\n",
       "    </tr>\n",
       "    <tr>\n",
       "      <th>2000</th>\n",
       "      <td>2.48</td>\n",
       "      <td>3.31</td>\n",
       "      <td>1.82</td>\n",
       "      <td>1.56</td>\n",
       "      <td>2.05</td>\n",
       "    </tr>\n",
       "    <tr>\n",
       "      <th>2010</th>\n",
       "      <td>2.22</td>\n",
       "      <td>2.88</td>\n",
       "      <td>1.98</td>\n",
       "      <td>1.99</td>\n",
       "      <td>1.93</td>\n",
       "    </tr>\n",
       "    <tr>\n",
       "      <th rowspan=\"6\" valign=\"top\">revenus</th>\n",
       "      <th>1960</th>\n",
       "      <td>5251.00</td>\n",
       "      <td>430.00</td>\n",
       "      <td>7499.00</td>\n",
       "      <td>11360.00</td>\n",
       "      <td>13723.00</td>\n",
       "    </tr>\n",
       "    <tr>\n",
       "      <th>1970</th>\n",
       "      <td>6611.00</td>\n",
       "      <td>565.00</td>\n",
       "      <td>11572.00</td>\n",
       "      <td>16570.00</td>\n",
       "      <td>18228.00</td>\n",
       "    </tr>\n",
       "    <tr>\n",
       "      <th>1980</th>\n",
       "      <td>7540.00</td>\n",
       "      <td>856.00</td>\n",
       "      <td>15641.00</td>\n",
       "      <td>19470.00</td>\n",
       "      <td>22630.00</td>\n",
       "    </tr>\n",
       "    <tr>\n",
       "      <th>1990</th>\n",
       "      <td>5581.00</td>\n",
       "      <td>1153.00</td>\n",
       "      <td>18731.00</td>\n",
       "      <td>23492.00</td>\n",
       "      <td>28298.00</td>\n",
       "    </tr>\n",
       "    <tr>\n",
       "      <th>2000</th>\n",
       "      <td>7695.00</td>\n",
       "      <td>1475.00</td>\n",
       "      <td>21774.00</td>\n",
       "      <td>27869.00</td>\n",
       "      <td>35081.00</td>\n",
       "    </tr>\n",
       "    <tr>\n",
       "      <th>2010</th>\n",
       "      <td>10749.00</td>\n",
       "      <td>1975.00</td>\n",
       "      <td>22758.00</td>\n",
       "      <td>32631.00</td>\n",
       "      <td>37329.00</td>\n",
       "    </tr>\n",
       "  </tbody>\n",
       "</table>\n",
       "</div>"
      ],
      "text/plain": [
       "              Argentina    Egypt    France    Sweden       USA\n",
       "enfants 1960       3.11     6.63      2.77      2.20      3.67\n",
       "        1970       3.07     5.94      2.49      1.92      2.46\n",
       "        1980       3.33     5.37      1.83      1.68      1.82\n",
       "        1990       2.99     4.35      1.75      2.14      2.07\n",
       "        2000       2.48     3.31      1.82      1.56      2.05\n",
       "        2010       2.22     2.88      1.98      1.99      1.93\n",
       "revenus 1960    5251.00   430.00   7499.00  11360.00  13723.00\n",
       "        1970    6611.00   565.00  11572.00  16570.00  18228.00\n",
       "        1980    7540.00   856.00  15641.00  19470.00  22630.00\n",
       "        1990    5581.00  1153.00  18731.00  23492.00  28298.00\n",
       "        2000    7695.00  1475.00  21774.00  27869.00  35081.00\n",
       "        2010   10749.00  1975.00  22758.00  32631.00  37329.00"
      ]
     },
     "execution_count": 17,
     "metadata": {},
     "output_type": "execute_result"
    }
   ],
   "source": [
    "df2 = df.copy()\n",
    "df2.index.set_levels(['enfants', 'revenus'], level=0, inplace=True)\n",
    "df2"
   ]
  },
  {
   "cell_type": "markdown",
   "metadata": {
    "variables": {
     " PreviousNext(\"pd03 -- cleaning a dataframe.ipynb\", \"pd05 -- Group data.ipynb\")": "&nbsp; &nbsp; &nbsp; &nbsp; &nbsp; &nbsp; &nbsp; &nbsp; &nbsp; &nbsp; &nbsp; &nbsp; &nbsp; &nbsp; &nbsp; &nbsp; &nbsp; &nbsp; &nbsp; &nbsp; &nbsp; &nbsp; &nbsp; &nbsp; &nbsp; &nbsp; &nbsp; &nbsp; &nbsp; &nbsp; &nbsp; &nbsp; &nbsp; &nbsp; &nbsp; &nbsp; &nbsp; &nbsp; &nbsp; &nbsp; &nbsp; &nbsp; &nbsp; &nbsp; &nbsp; &nbsp; &nbsp; &nbsp; &nbsp; &nbsp; &nbsp; &nbsp; &nbsp; &nbsp; &nbsp; &nbsp; &nbsp; &nbsp; &nbsp; &nbsp; &nbsp; &nbsp; &nbsp; &nbsp; &nbsp; &nbsp; &nbsp; &nbsp; &nbsp; &nbsp; &nbsp; &nbsp; &nbsp; &nbsp; &nbsp; &nbsp; &nbsp; &nbsp; &nbsp; &nbsp; &nbsp; &nbsp; &nbsp; &nbsp; &nbsp; &nbsp; &nbsp; &nbsp; &nbsp; &nbsp; &nbsp; &nbsp; &nbsp; &nbsp; &nbsp; &nbsp; &nbsp; &nbsp; &nbsp; &nbsp; &nbsp; &nbsp; &nbsp; &nbsp; &nbsp; &nbsp; &nbsp; &nbsp; &nbsp; &nbsp; &nbsp; &nbsp; &nbsp; &nbsp; &nbsp; &nbsp; &nbsp; &nbsp; &nbsp; &nbsp; &nbsp; &nbsp; &nbsp; &nbsp; &nbsp; &nbsp; &nbsp; &nbsp; &nbsp; &nbsp; &nbsp; &nbsp; &nbsp; &nbsp; &nbsp; &nbsp; &nbsp; &nbsp; &nbsp; &nbsp; &nbsp; &nbsp; &nbsp; &nbsp; &nbsp; &nbsp; &nbsp; &nbsp; &nbsp; &nbsp; &nbsp; &nbsp; &nbsp; &nbsp; &nbsp; &nbsp; &nbsp; &nbsp; &nbsp; &nbsp; &nbsp; &nbsp; &nbsp; &nbsp; &nbsp; &nbsp; &nbsp; &nbsp; &nbsp; &nbsp; &nbsp; &nbsp; &nbsp; &nbsp; &nbsp; &nbsp; &nbsp; &nbsp; &nbsp; &nbsp; &nbsp; &nbsp; &nbsp; &nbsp; &nbsp; &nbsp; &nbsp; &nbsp; &nbsp; &nbsp; &nbsp; &nbsp; &nbsp; &nbsp; &nbsp; &nbsp; &nbsp; &nbsp; &nbsp; &nbsp; <br/><center><a href=\"pd03 -- cleaning a dataframe.ipynb\">pd03 -- cleaning a dataframe</a>&nbsp; ← <a href=\"http://python3.mooc.lrde.epita.fr:8888/tree/tree/lesson6 Pandas\" style=\"text-decoration:none\"> △ </a> → &nbsp;<a href=\"pd05 -- Group data.ipynb\">pd05 -- Group data</a></center><br/>&nbsp;"
    }
   },
   "source": [
    "{{ PreviousNext(\"pd03 -- cleaning a dataframe.ipynb\", \"pd05 -- Group data.ipynb\")}}"
   ]
  },
  {
   "cell_type": "code",
   "execution_count": null,
   "metadata": {},
   "outputs": [],
   "source": []
  }
 ],
 "metadata": {
  "kernelspec": {
   "display_name": "Python 3",
   "language": "python",
   "name": "python3"
  },
  "language_info": {
   "codemirror_mode": {
    "name": "ipython",
    "version": 3
   },
   "file_extension": ".py",
   "mimetype": "text/x-python",
   "name": "python",
   "nbconvert_exporter": "python",
   "pygments_lexer": "ipython3",
   "version": "3.7.6"
  },
  "nbTranslate": {
   "displayLangs": [
    "fr"
   ],
   "hotkey": "alt-t",
   "langInMainMenu": true,
   "sourceLang": "fr",
   "targetLang": "en",
   "useGoogleTranslate": true
  }
 },
 "nbformat": 4,
 "nbformat_minor": 1
}
