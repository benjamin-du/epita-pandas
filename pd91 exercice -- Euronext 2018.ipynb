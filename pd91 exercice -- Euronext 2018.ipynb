{
 "cells": [
  {
   "cell_type": "code",
   "execution_count": null,
   "metadata": {},
   "outputs": [],
   "source": [
    "import os\n",
    "import datetime\n",
    "import dateutil\n",
    "import tarfile\n",
    "import requests\n",
    "import pandas as pd\n",
    "import pandas.io.sql as sqlio\n",
    "\n",
    "%matplotlib inline"
   ]
  },
  {
   "cell_type": "markdown",
   "metadata": {},
   "source": [
    "On dispose de tableaux sauvés au format Pandas qui représentent les cours des actions à un moment donnée sur un marché donné. Ces deux informations sont dans le nom du fichier.\n",
    "\n",
    "On commence par extraire les sauvegardes de l'archive puis on regarde la première sauvegarde que l'on a du compartiment A de la bourse de Paris."
   ]
  },
  {
   "cell_type": "code",
   "execution_count": null,
   "metadata": {},
   "outputs": [],
   "source": [
    "!mkdir tmp\n",
    "!rm -rf tmp/2018\n",
    "stream = requests.get('https://www.lrde.epita.fr/~ricou/boursorama2018.tgz', stream=True)\n",
    "tarfile.open(fileobj=stream.raw, mode='r|gz').extractall('tmp/') # try 'r:gz' if there is an error"
   ]
  },
  {
   "cell_type": "code",
   "execution_count": null,
   "metadata": {},
   "outputs": [],
   "source": [
    "os.listdir('tmp/2018')[:5]"
   ]
  },
  {
   "cell_type": "code",
   "execution_count": null,
   "metadata": {},
   "outputs": [],
   "source": [
    "df = pd.read_pickle('tmp/2018/compA 2018-05-16 11:05:02.385909') # read_pickle to read Pandas DataFrames"
   ]
  },
  {
   "cell_type": "code",
   "execution_count": null,
   "metadata": {
    "scrolled": true
   },
   "outputs": [],
   "source": [
    "df"
   ]
  },
  {
   "cell_type": "markdown",
   "metadata": {},
   "source": [
    "## Création de notre super DataFrame\n",
    "\n",
    "On va stocker les valeurs de toutes les actions du compartiment A de 2018 dans un DataFrame en intrégrant la date (et heure) dans l'index (ce qui fait faire un DataFrame à 2 index). Attention on a extrait aussi d'autres marchés, il faut donc ne choisir que les fichiers qui contiennent compA (`find`  de String).\n",
    "\n",
    "En utilisant la concaténation, créer ce DataFrame multi-index qu'on appelle `compA` (cela peut être fait en une commande). Affichez compA et indiquez un premier problème."
   ]
  },
  {
   "cell_type": "code",
   "execution_count": null,
   "metadata": {},
   "outputs": [],
   "source": [
    "import glob\n"
   ]
  },
  {
   "cell_type": "markdown",
   "metadata": {},
   "source": [
    "## Extraction de l'action AXA\n",
    "\n",
    "Le but est d'extraire le cours de l'action d'AXA et de le tracer.\n",
    "\n",
    "* Créez un DataFrame du nom d'`axa` qui contient toutes les informations sur AXA le long de l'année\n",
    "* Transformez `axa` pour qu'il n'ait qu'un seul index (la date). Pour cela `reset_index` devrait vous aider.\n",
    "* Calculez la moyenne du cours d'AXA. Vous devriez avoir un problème, corrigez le dataframe avec `astype` pour que cela marche.\n",
    "* Tracer la courbe du cours d'AXA (on fera attention à bien avoir des dates en abscisse et qu'on couvre tout 2018). Si les dates ne sont pas lisibles, c'est que le type est mauvais."
   ]
  },
  {
   "cell_type": "code",
   "execution_count": null,
   "metadata": {},
   "outputs": [],
   "source": []
  },
  {
   "cell_type": "markdown",
   "metadata": {},
   "source": [
    "## Un gros calcul\n",
    "\n",
    "Remettre en état le dataframe `compA` afin d'avoir comme index de niveau 0 les symboles des entreprises. \n",
    "Vérifier que le résultat est bon en vérifiant que le cours d'AXA ressemble à celui que vous venez de tracer.\n",
    "\n",
    "Attention, le volume indique le nombre d'actions échangées depuis le début de la journée. Il y a aussi des données fausses à corriger dans les volumes.\n",
    "On prendra en compte qu'il y a des jours de congé de la bourse que notre base n'a pas pris en compte :\n",
    "`day_off = ['2018-01-01', '2018-03-30', '2018-04-02', '2018-05-01', '2018-12-25', '2018-12-26']`\n",
    "\n",
    "Calculez la masse monétaire échangée dans le compartiment A en 2018 (le résultat est 1,2 billion d'euros).\n",
    "\n",
    "Fonction utiles pour cette partie : `apply`, `drop`, `reset_index`, `set_index`, `swaplevel`, `rename_axis`, `sort_index`,\n",
    "`dropna`, `fillna`, `diff`, `dateutil.parser.parse`, `timedelta`"
   ]
  },
  {
   "cell_type": "code",
   "execution_count": null,
   "metadata": {},
   "outputs": [],
   "source": []
  },
  {
   "cell_type": "markdown",
   "metadata": {},
   "source": [
    "La bourse de la Londres échange plus d'un billiard par an."
   ]
  },
  {
   "cell_type": "markdown",
   "metadata": {},
   "source": [
    "## Fusion de données\n",
    "\n",
    "On dispose d'une seconde sources de cours de bourse mais avec un décalage de 15 minutes sur la première source :\n",
    "\n",
    "* Boursorama : l'heure du fichier est l'heure de la cotation\n",
    "* Netfonds : l'heure du fichier est la cotation d'il y a 15 mn\n",
    "\n",
    "Avec ces deux sources créez le dataframe `bourse` le plus juste possible avec une cotation toutes les 10 mn de 9h05 à 17h55 chaque jour de cotation (lorsqu'on a une seule donnée on la prend, lorsqu'on en a deux, on fait la moyenne).\n",
    "\n",
    "Afficher le cours d'AXA pour l'année.\n",
    "\n",
    "Le fichier `data/symboles.csv` permet de faire la correspondance entre les actions des sources. On ne s'intéresse qu'aux actions dont on a le symbole dans les deux sources.\n",
    "\n",
    "__Attention__ La taille des données `euronx` de la seconde source s'approche des 15 GO ce que votre machine risque de \n",
    "ne pas aimer. Il est donc préférable de charger les données mois par mois.\n",
    "\n",
    "#### Conseils \n",
    "\n",
    "* Créer `month_b` et `month_n` qui contiennent toutes les cotations d'un mois choisi, disons janvier pour tester\n",
    "* Tracer la courbe d'AXA pour voir\n",
    "* Faire de sorte que ces 2 tableaux aient exactement le même index (mêmes entreprises au niveau 0, même dates au niveau 1)\n",
    "* Travaillez avec un seul titre dans vos 2 tableaux pour deboguer, AXA par exemple :)\n",
    "* Pour la fusion un `Grouper` est utile."
   ]
  },
  {
   "cell_type": "code",
   "execution_count": null,
   "metadata": {},
   "outputs": [],
   "source": [
    "!rm -rf tmp/2018   # on retire les fichiers de boursorama\n",
    "stream = requests.get('https://www.lrde.epita.fr/~ricou/netfonds2018.tar', stream=True)\n",
    "tarfile.open(fileobj=stream.raw, mode='r|').extractall('tmp/')"
   ]
  },
  {
   "cell_type": "code",
   "execution_count": null,
   "metadata": {},
   "outputs": [],
   "source": [
    "df = pd.read_pickle(\"tmp/2018/euronx 2018-04-06 18:00:02.517981.bz2\")\n",
    "df"
   ]
  },
  {
   "cell_type": "code",
   "execution_count": null,
   "metadata": {},
   "outputs": [],
   "source": [
    "# on ne charge que le mois de janvier \n",
    "euronx = "
   ]
  },
  {
   "cell_type": "code",
   "execution_count": null,
   "metadata": {},
   "outputs": [],
   "source": []
  },
  {
   "cell_type": "markdown",
   "metadata": {},
   "source": [
    "## La petite touche finale\n",
    "\n",
    "On récupère sur les cours journaliers des entreprises d'Euronext sur [Quandl](https://www.quandl.com/) (l'interface Quandl de Pandas datareader \n",
    "est boguée aussi on utilisera l'API de Quandl).\n",
    "\n",
    "Les symboles pour obtenir un cours sont `'EURONEXT/xx'` avec `xx` la valeur de la cotation extraite de la colonne Netfonds de la table de symbole en retirant les 2 premiers caractère et le dernier. Ainsi `E-CSP` devient `CS`.\n",
    "\n",
    "* Créer un tableau `q2018` avec toutes les données de Quandl pour 2018 des entreprises que vous avez dans `bourse`\n",
    "* Afficher `Low` et `High` de 2018 pour AXA sur une même courbe (en une commande)\n",
    "* Ajouter à `bourse` à 9h00 le cours d'ouverture donné par Quandl et à 18h00 celui de fermeture\n",
    "* Vérifier que les cours de `bourse` sont bien compris entre `Low` et `High` de `q2018`. Quel est le pourcentage de cas problématiques. Pour les cas problématiques à moins de 1 % du min ou max remplacer par le min ou le max. Pour les autres mettre un `np.nan` (pour cette partie il est utile de remettre le tableau à plat c.a.d. sans index).\n",
    "\n",
    "Conseil : commencer par faire une sauvegarde de `bourse` sur le disque avec `to_pickle` pour ne pas devoir le recalculer en cas de problème. Garder dans une variable à part le résultat de la requête auprès de Quandl (il doit limiter le nombre d'interrogations par jour)."
   ]
  },
  {
   "cell_type": "code",
   "execution_count": null,
   "metadata": {},
   "outputs": [],
   "source": []
  },
  {
   "cell_type": "code",
   "execution_count": null,
   "metadata": {},
   "outputs": [],
   "source": [
    "import quandl\n",
    "\n",
    "quandl.ApiConfig.api_key = \"xxxxxx\"  # inscrivez-vous sur Quandl pour avoir une clef"
   ]
  },
  {
   "cell_type": "code",
   "execution_count": null,
   "metadata": {},
   "outputs": [],
   "source": []
  }
 ],
 "metadata": {
  "kernelspec": {
   "display_name": "Python 3",
   "language": "python",
   "name": "python3"
  },
  "language_info": {
   "codemirror_mode": {
    "name": "ipython",
    "version": 3
   },
   "file_extension": ".py",
   "mimetype": "text/x-python",
   "name": "python",
   "nbconvert_exporter": "python",
   "pygments_lexer": "ipython3",
   "version": "3.8.5"
  },
  "nbTranslate": {
   "displayLangs": [
    "en",
    "fr"
   ],
   "hotkey": "alt-t",
   "langInMainMenu": true,
   "sourceLang": "fr",
   "targetLang": "en",
   "useGoogleTranslate": true
  }
 },
 "nbformat": 4,
 "nbformat_minor": 2
}
